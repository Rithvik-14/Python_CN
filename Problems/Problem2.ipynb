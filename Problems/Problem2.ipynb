{
 "cells": [
  {
   "cell_type": "markdown",
   "id": "52df2eb7",
   "metadata": {},
   "source": [
    "# Write a python program to translate a message into secret code language. Use the rules below to translate normal English into secret code language\n",
    "# Coding:\n",
    "# if the word contains atleast 3 characters, remove the first letter and append it at the end\n",
    "#   now append three random characters at the starting and the end\n",
    "# else:\n",
    "#   simply reverse the string\n",
    "\n",
    "# Decoding:\n",
    "# if the word contains less than 3 characters, reverse it\n",
    "# else:\n",
    "#   remove 3 random characters from start and end. Now remove the last letter and append it to the beginning\n",
    "\n",
    "# Your program should ask whether you want to code or decode# Q3. "
   ]
  },
  {
   "cell_type": "code",
   "execution_count": null,
   "id": "6e8637f2",
   "metadata": {},
   "outputs": [],
   "source": []
  },
  {
   "cell_type": "code",
   "execution_count": 19,
   "id": "131cfc0d",
   "metadata": {},
   "outputs": [
    {
     "name": "stdout",
     "output_type": "stream",
     "text": [
      "x\n",
      "5\n"
     ]
    }
   ],
   "source": [
    "import random\n",
    "\n",
    "sentence = 'rithvik dxit'\n",
    "random_char  = random.choice(sentence) \n",
    "# The random.choice method is a part of the random module in Python,\n",
    "#The random.choice method specifically allows you to make a random selection from a sequence-like object,such as a list,tuple or string.\n",
    "print(random_char)\n",
    "\n",
    "numbers = [1,2,4,5,6,3]\n",
    "random_num = random.choice(numbers)\n",
    "print(random_num)"
   ]
  },
  {
   "cell_type": "code",
   "execution_count": null,
   "id": "c7f3cfad",
   "metadata": {},
   "outputs": [],
   "source": []
  },
  {
   "cell_type": "code",
   "execution_count": 36,
   "id": "67bff514",
   "metadata": {},
   "outputs": [
    {
     "name": "stdout",
     "output_type": "stream",
     "text": [
      "Enter the message you want to send secretly: rithvik\n",
      "Enter the random numbers you want to add in the start:2\n",
      "Enter the random numbers you want to add in the end:2\n",
      "boithvikrrl\n"
     ]
    }
   ],
   "source": [
    "import random\n",
    "import string\n",
    "\n",
    "#encoding the msg.\n",
    "def secret(msg,start_num,end_num):\n",
    "    size = len(msg)\n",
    "    if size<=3:\n",
    "        sec_msg = ''.join(reversed(msg))  # or msg[::-1]\n",
    "        return sec_msg\n",
    "    \n",
    "    else:\n",
    "        # Define the pool of characters from which to randomly choose\n",
    "        characters_pool = string.ascii_letters\n",
    "        # add random charchters at the start and at the end.\n",
    "        start_characters = ''.join(random.choice(characters_pool) for _ in range(start_num))\n",
    "        end_characters = ''.join(random.choice(characters_pool) for _ in range(end_num))\n",
    "        first_letter = msg[0]\n",
    "        result = msg[1:] + first_letter\n",
    "        result_string = start_characters + result + end_characters\n",
    "\n",
    "    return result_string\n",
    "\n",
    "msg  = input('Enter the message you want to send secretly: ')\n",
    "start_num = int(input('Enter the random numbers you want to add in the start:'))\n",
    "end_num = int(input('Enter the random numbers you want to add in the end:'))\n",
    "modified_Str = secret(msg,start_num,end_num)\n",
    "print(modified_Str)"
   ]
  },
  {
   "cell_type": "code",
   "execution_count": 6,
   "id": "0674efc8",
   "metadata": {},
   "outputs": [
    {
     "name": "stdout",
     "output_type": "stream",
     "text": [
      "['rithvikdixit,suneeldixit']\n"
     ]
    }
   ],
   "source": [
    "sen = 'rithvikdixit,suneeldixit'\n",
    "s = sen.split(\" \")            # The split () method splits a string into a list.\n",
    "print(s)"
   ]
  },
  {
   "cell_type": "code",
   "execution_count": null,
   "id": "c001d45f",
   "metadata": {},
   "outputs": [],
   "source": []
  },
  {
   "cell_type": "code",
   "execution_count": 34,
   "id": "1e1e4195",
   "metadata": {},
   "outputs": [
    {
     "name": "stdout",
     "output_type": "stream",
     "text": [
      "Enter the sentence: rdfithvikrert\n",
      "1 if want to encode and 0  for decoding0\n",
      "False\n",
      "['rithvik']\n",
      "rithvik\n"
     ]
    }
   ],
   "source": [
    "# Another Solution.\n",
    "st = input('Enter the sentence: ')\n",
    "words = st.split(\" \")\n",
    "newword=[]\n",
    "coding = input('1 if want to encode and 0  for decoding')\n",
    "coding = True if (coding=='1')else False\n",
    "print(coding)\n",
    "if coding:\n",
    "    for word in words:\n",
    "        if(len(word)> 3):\n",
    "            r1 = 'rdf'\n",
    "            r2='ert'\n",
    "            newstr = r1+ word[1:] + word[0] + r2\n",
    "            newword.append(newstr)\n",
    "            print(newword)\n",
    "        else:\n",
    "            newword.append(word[::-1])\n",
    "        print(''.join(newword))\n",
    "\n",
    "else:\n",
    "    newword=[]\n",
    "    for word in words:\n",
    "        if(len(word)>3):\n",
    "            newstr = word[3:-3]\n",
    "            newstr = newstr[-1] + newstr[:-1]\n",
    "            newword.append(newstr)\n",
    "            print(newword)\n",
    "        else:\n",
    "            newword.append(word[::-1])\n",
    "        print(''.join(newword))"
   ]
  },
  {
   "cell_type": "code",
   "execution_count": null,
   "id": "eb4205a9",
   "metadata": {},
   "outputs": [],
   "source": []
  },
  {
   "cell_type": "code",
   "execution_count": 54,
   "id": "f3b17d4d",
   "metadata": {},
   "outputs": [
    {
     "name": "stdout",
     "output_type": "stream",
     "text": [
      "3\n",
      "None\n"
     ]
    }
   ],
   "source": [
    "from random import shuffle\n",
    "example = [1,2,3,4,5,6]\n",
    "res = random.choice(example)\n",
    "print(res)\n",
    "\n",
    "res = shuffle(example)\n",
    "print(res)\n",
    "\n"
   ]
  },
  {
   "cell_type": "markdown",
   "id": "041b3aea",
   "metadata": {},
   "source": [
    "# Q2.  Program where a player will guess where O is present in the list."
   ]
  },
  {
   "cell_type": "code",
   "execution_count": 67,
   "id": "60a1ce6e",
   "metadata": {},
   "outputs": [
    {
     "data": {
      "text/plain": [
       "[3, 5, 6, 4, 1, 2]"
      ]
     },
     "execution_count": 67,
     "metadata": {},
     "output_type": "execute_result"
    }
   ],
   "source": [
    "def shuffle_list(mylist):\n",
    "    shuffle(mylist)\n",
    "    return mylist\n",
    "\n",
    "result = shuffle_list(example)\n",
    "result"
   ]
  },
  {
   "cell_type": "code",
   "execution_count": 80,
   "id": "1a89a7f3",
   "metadata": {},
   "outputs": [
    {
     "data": {
      "text/plain": [
       "[' ', ' ', 'O']"
      ]
     },
     "execution_count": 80,
     "metadata": {},
     "output_type": "execute_result"
    }
   ],
   "source": [
    "# this list shows at which index the ball is...\n",
    "gamelist = [' ','O',' ']\n",
    "shuffle_list(gamelist)"
   ]
  },
  {
   "cell_type": "code",
   "execution_count": 90,
   "id": "6842bbea",
   "metadata": {},
   "outputs": [],
   "source": [
    "# Now I want to the player to guess where the ball is...\n",
    "def player_guess():\n",
    "   # guess= ''\n",
    "    guess = input('Guess where the ball is in 0,1 or 2 !!! ')\n",
    "    return int(guess)   # input always takes the string."
   ]
  },
  {
   "cell_type": "code",
   "execution_count": 91,
   "id": "22422e38",
   "metadata": {},
   "outputs": [],
   "source": [
    "# Now I will check whether the player guessed it right or not...\n",
    "def check_guess(gamelist,guess):\n",
    "    if gamelist[guess] == 'O':\n",
    "        print('Right guess!!')\n",
    "    else:\n",
    "        print('Wrong')\n",
    "        print(gamelist)\n",
    "        "
   ]
  },
  {
   "cell_type": "code",
   "execution_count": 93,
   "id": "8e684fe4",
   "metadata": {},
   "outputs": [
    {
     "name": "stdout",
     "output_type": "stream",
     "text": [
      "Guess where the ball is in 0,1 or 2 !!! 0\n",
      "Wrong\n",
      "[' ', 'O', ' ']\n"
     ]
    }
   ],
   "source": [
    "gamelist = [' ', 'O',' ']\n",
    "#shuffle_list(gamelist)\n",
    "# call the player_guess..\n",
    "playerguess = player_guess()\n",
    "# call the check_guess..\n",
    "checkguess = check_guess(gamelist,playerguess)"
   ]
  },
  {
   "cell_type": "code",
   "execution_count": null,
   "id": "56c069a4",
   "metadata": {},
   "outputs": [],
   "source": []
  }
 ],
 "metadata": {
  "kernelspec": {
   "display_name": "Python 3 (ipykernel)",
   "language": "python",
   "name": "python3"
  },
  "language_info": {
   "codemirror_mode": {
    "name": "ipython",
    "version": 3
   },
   "file_extension": ".py",
   "mimetype": "text/x-python",
   "name": "python",
   "nbconvert_exporter": "python",
   "pygments_lexer": "ipython3",
   "version": "3.11.4"
  }
 },
 "nbformat": 4,
 "nbformat_minor": 5
}
