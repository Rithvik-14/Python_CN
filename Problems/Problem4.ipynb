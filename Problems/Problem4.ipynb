{
 "cells": [
  {
   "cell_type": "markdown",
   "id": "7cbc44c3",
   "metadata": {},
   "source": [
    "# HAND CRICKET 24."
   ]
  },
  {
   "cell_type": "code",
   "execution_count": 62,
   "id": "d36d676c",
   "metadata": {},
   "outputs": [
    {
     "name": "stdout",
     "output_type": "stream",
     "text": [
      "Choose heads or tails: Heads\n",
      "User will bat first\n",
      "Enter the choice from [1, 2, 3, 4, 5, 6]:    23\n"
     ]
    },
    {
     "ename": "ValueError",
     "evalue": "Invalid choice. Please choose from the given.",
     "output_type": "error",
     "traceback": [
      "\u001b[1;31m---------------------------------------------------------------------------\u001b[0m",
      "\u001b[1;31mValueError\u001b[0m                                Traceback (most recent call last)",
      "Cell \u001b[1;32mIn[62], line 17\u001b[0m\n\u001b[0;32m     15\u001b[0m Player \u001b[38;5;241m=\u001b[39m \u001b[38;5;28mint\u001b[39m(\u001b[38;5;28minput\u001b[39m(\u001b[38;5;124mf\u001b[39m\u001b[38;5;124m'\u001b[39m\u001b[38;5;124mEnter the choice from \u001b[39m\u001b[38;5;132;01m{\u001b[39;00mchoose\u001b[38;5;132;01m}\u001b[39;00m\u001b[38;5;124m:    \u001b[39m\u001b[38;5;124m'\u001b[39m))\n\u001b[0;32m     16\u001b[0m \u001b[38;5;28;01mif\u001b[39;00m Player \u001b[38;5;129;01mnot\u001b[39;00m \u001b[38;5;129;01min\u001b[39;00m choose:\n\u001b[1;32m---> 17\u001b[0m         \u001b[38;5;28;01mraise\u001b[39;00m \u001b[38;5;167;01mValueError\u001b[39;00m(\u001b[38;5;124m\"\u001b[39m\u001b[38;5;124mInvalid choice. Please choose from the given.\u001b[39m\u001b[38;5;124m\"\u001b[39m)\n\u001b[0;32m     19\u001b[0m computer \u001b[38;5;241m=\u001b[39m computer_choice()\n\u001b[0;32m     21\u001b[0m \u001b[38;5;28mprint\u001b[39m(\u001b[38;5;124mf\u001b[39m\u001b[38;5;124m\"\u001b[39m\u001b[38;5;124mComputer\u001b[39m\u001b[38;5;124m'\u001b[39m\u001b[38;5;124ms choice: \u001b[39m\u001b[38;5;132;01m{\u001b[39;00mcomputer\u001b[38;5;132;01m}\u001b[39;00m\u001b[38;5;124m\"\u001b[39m)\n",
      "\u001b[1;31mValueError\u001b[0m: Invalid choice. Please choose from the given."
     ]
    }
   ],
   "source": [
    "# 1st Attempt.\n",
    "\n",
    "import random\n",
    "def computer_choice():\n",
    "    choice = [1,2,3,4,5,6]\n",
    "    return random.choice(choice)\n",
    "\n",
    "Toss = input('Choose heads or tails: ')\n",
    "#toss_result = random.choice(['Heads','Tails'])\n",
    "if Toss == 'Heads':\n",
    "    print('User will bat first')\n",
    "else:\n",
    "    print('Bowling')\n",
    "choose = [1,2,3,4,5,6]\n",
    "total = 0\n",
    "while True:\n",
    "        Player = int(input(f'Enter the choice from {choose}:    '))\n",
    "        if Player not in choose:\n",
    "                raise ValueError(\"Invalid choice. Please choose from the given.\")\n",
    "        \n",
    "        computer = computer_choice()\n",
    "        \n",
    "        print(f\"Computer's choice: {computer}\")\n",
    "        print(f'Players choice:{Player}')\n",
    "        \n",
    "        total = total + Player\n",
    "        print(f'Total score: {total}')\n",
    "        if Player == computer:\n",
    "                print(f'You are out: total is: {total}')\n",
    "                break\n",
    "        else:\n",
    "            continue\n",
    "            \n",
    "print(f'Game Over! Your final total is: {total}')\n",
    "\n",
    "print(f'Now it is time for computer to chase the target : {total}')\n",
    "print('------------------------:::::::::::::::-----------------------------------')\n",
    "Target = total\n",
    "total2 = 0\n",
    "while total2 < Target:\n",
    "    \n",
    "        Player = int(input(f'Enter the choice from {choose} :    '))       \n",
    "        computer = computer_choice()\n",
    "        \n",
    "        print(f\"Computer's choice: {computer}\")\n",
    "        print(f'Players choice:{Player}')\n",
    "        \n",
    "      \n",
    "        if computer == Player:\n",
    "                print(f'Computer is out total is: {total2}')\n",
    "                break\n",
    "        total2 = total2 + computer\n",
    "        print(f'Total score: {total2}')\n",
    "        \n",
    "if total2 > Target:\n",
    "    print(f'Computer won the match')\n",
    "else:\n",
    "    print(f'Player won the match by:{total-total2}')\n",
    "            \n",
    "print('Game over,Time for awards !!!!')\n",
    "                   "
   ]
  },
  {
   "cell_type": "markdown",
   "id": "57992164",
   "metadata": {},
   "source": []
  }
 ],
 "metadata": {
  "kernelspec": {
   "display_name": "Python 3 (ipykernel)",
   "language": "python",
   "name": "python3"
  },
  "language_info": {
   "codemirror_mode": {
    "name": "ipython",
    "version": 3
   },
   "file_extension": ".py",
   "mimetype": "text/x-python",
   "name": "python",
   "nbconvert_exporter": "python",
   "pygments_lexer": "ipython3",
   "version": "3.11.4"
  }
 },
 "nbformat": 4,
 "nbformat_minor": 5
}
