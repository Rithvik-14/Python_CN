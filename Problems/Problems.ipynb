{
 "cells": [
  {
   "cell_type": "raw",
   "id": "63831c8d",
   "metadata": {},
   "source": [
    "Q1. Create a python program capable of greeting you with Good Morning, Good Afternoon and Good Evening. Your program should use time module to get the current hour. Here is a sample program and documentation link for you:"
   ]
  },
  {
   "cell_type": "code",
   "execution_count": 1,
   "id": "438bc20a",
   "metadata": {},
   "outputs": [
    {
     "name": "stdout",
     "output_type": "stream",
     "text": [
      "2024-01-04 11:27:56\n"
     ]
    }
   ],
   "source": [
    "import time\n",
    "\n",
    "current_time = time.time()\n",
    "formatted_time = time.strftime(\"%Y-%m-%d %H:%M:%S\", time.localtime(current_time))\n",
    "print(formatted_time)"
   ]
  },
  {
   "cell_type": "raw",
   "id": "da85d9f1",
   "metadata": {},
   "source": []
  },
  {
   "cell_type": "code",
   "execution_count": 9,
   "id": "f18a4ee5",
   "metadata": {},
   "outputs": [
    {
     "name": "stdout",
     "output_type": "stream",
     "text": [
      "time.struct_time(tm_year=2024, tm_mon=1, tm_mday=4, tm_hour=11, tm_min=37, tm_sec=4, tm_wday=3, tm_yday=4, tm_isdst=0)\n",
      "11:37:04\n"
     ]
    }
   ],
   "source": [
    "import time\n",
    "current_time = time.time()  # This method returns a float value which represents the time in seconds since the epoch.\n",
    "print(time.localtime(current_time))\n",
    "\n",
    "# time.strftime-->Formats a struct_time object or a time in seconds into a string.\n",
    "print(time.strftime(\"%H:%M:%S\", time.localtime(current_time)))\n",
    "\n",
    "\n"
   ]
  },
  {
   "cell_type": "code",
   "execution_count": 22,
   "id": "182b3758",
   "metadata": {},
   "outputs": [
    {
     "name": "stdout",
     "output_type": "stream",
     "text": [
      "12:11:30\n",
      "12\n",
      "11\n",
      "30\n",
      "time.struct_time(tm_year=2024, tm_mon=1, tm_mday=4, tm_hour=6, tm_min=41, tm_sec=30, tm_wday=3, tm_yday=4, tm_isdst=0)\n",
      "time.struct_time(tm_year=2024, tm_mon=1, tm_mday=4, tm_hour=12, tm_min=11, tm_sec=30, tm_wday=3, tm_yday=4, tm_isdst=0)\n"
     ]
    }
   ],
   "source": [
    "import time\n",
    "timestamp = time.strftime('%H:%M:%S')\n",
    "print(timestamp)\n",
    "timestamp = int(time.strftime('%H'))\n",
    "print(timestamp)\n",
    "timestamp = time.strftime('%M')\n",
    "print(timestamp)\n",
    "timestamp = time.strftime('%S')\n",
    "print(timestamp)\n",
    "gm = time.gmtime()\n",
    "print(gm)\n",
    "local = time.localtime()\n",
    "print(local)\n",
    "# https://docs.python.org/3/library/time.html#time.strftime"
   ]
  },
  {
   "cell_type": "code",
   "execution_count": 20,
   "id": "9729e607",
   "metadata": {},
   "outputs": [
    {
     "name": "stdout",
     "output_type": "stream",
     "text": [
      "Your name:Rithvik\n",
      "Good Morning Rithvik time is: 11:57:04 Hr 11\n"
     ]
    }
   ],
   "source": [
    "import time\n",
    "name = input(\"Your name:\")\n",
    "current_time = time.strftime('%H:%M:%S')\n",
    "Current_Time = int(time.strftime('%H'))\n",
    "\n",
    "if(4<Current_Time<12):\n",
    "    print('Good Morning',name,'time is:',current_time,'Hr',Current_Time)\n",
    "elif(12<=Current_Time<5):\n",
    "    print('Good Evening',name,'time is:',current_time,'Hr',Current_Time)\n",
    "else:\n",
    "    print('Good Night',name,'time is:',current_time,'Hr',Current_Time)"
   ]
  },
  {
   "cell_type": "code",
   "execution_count": 29,
   "id": "f09ce406",
   "metadata": {},
   "outputs": [
    {
     "name": "stdout",
     "output_type": "stream",
     "text": [
      "1\n",
      "5\n",
      "9\n",
      "13\n",
      "17\n"
     ]
    }
   ],
   "source": [
    "for k in range(1, 20, 4):\n",
    "    print(k)"
   ]
  },
  {
   "cell_type": "code",
   "execution_count": null,
   "id": "eb903556",
   "metadata": {},
   "outputs": [],
   "source": []
  },
  {
   "cell_type": "raw",
   "id": "6257ded3",
   "metadata": {},
   "source": [
    "Q2. Create mini kbc game."
   ]
  },
  {
   "cell_type": "code",
   "execution_count": 30,
   "id": "c868eb0b",
   "metadata": {},
   "outputs": [
    {
     "name": "stdout",
     "output_type": "stream",
     "text": [
      "KBC mai aapka swagat hai: \n",
      "----------------------------------------------\n",
      "What is the capital if India?\n",
      "a. Kolakata b. Delhi c. Banglore d. Jaipur\n",
      "Contestant's answers: b. Delhi\n",
      "Sahi uttar...\n",
      "App jite hai 5000Rs.\n",
      "-----------------------------------------------------------\n",
      "2nd Question ye raha aapke computer screen hai...\n",
      "['What is the gravtiy value of earth?']\n",
      "a. 9.75g b. 9.7g c.9.65g d9.8g\n",
      "Contestant's answers: c.9.65g\n",
      "Galat uttar..\n",
      "Sahi answer hai.. b. 9.7g\n",
      "App nikaliye\n"
     ]
    }
   ],
   "source": [
    "import sys\n",
    "\n",
    "print('KBC mai aapka swagat hai: ')\n",
    "print('----------------------------------------------')\n",
    "list1 = ['Q1','Q2','Q3']\n",
    "Q1 = ['What is the capital if India?']\n",
    "print(' '.join(Q1))   # used join method so i will not get the [] in output console.\n",
    "\n",
    "options = ('a. Kolakata','b. Delhi', 'c. Banglore','d. Jaipur')\n",
    "print(' '.join(options))\n",
    "\n",
    "Answer = options[1]\n",
    "user_input = input(\"Contestant's answers: \")\n",
    "\n",
    "if user_input == Answer:\n",
    "    print('Sahi uttar...')\n",
    "    print('App jite hai 5000Rs.')\n",
    "else:\n",
    "    print(\"Galat uttar..\")\n",
    "    print('Sahi answer hai.. Delhi')\n",
    "    sys.exit()\n",
    "\n",
    "    \n",
    "print('-----------------------------------------------------------')\n",
    "    \n",
    "print('2nd Question ye raha aapke computer screen hai...')\n",
    "\n",
    "Q2 = ['What is the gravtiy value of earth?']\n",
    "print(''.join(Q2))\n",
    "options2 = ['a. 9.75g', 'b. 9.7g', 'c.9.65g', 'd9.8g']\n",
    "print(' '.join(options2))\n",
    "\n",
    "Ans = options2[0]\n",
    "user_input2 = input(\"Contestant's answers: \")\n",
    "\n",
    "if user_input2 == Answer:\n",
    "    print('Sahi uttar...')\n",
    "    print('App jite hai 10000Rs.')\n",
    "else:\n",
    "    print(\"Galat uttar..\")\n",
    "    print('Sahi answer hai..',Ans)\n",
    "\n",
    "print('App nikaliye')\n",
    "\n",
    "\n",
    "    "
   ]
  },
  {
   "cell_type": "code",
   "execution_count": null,
   "id": "47b72bde",
   "metadata": {},
   "outputs": [],
   "source": []
  },
  {
   "cell_type": "raw",
   "id": "ce6d6505",
   "metadata": {},
   "source": [
    "Solution 2 -- "
   ]
  },
  {
   "cell_type": "code",
   "execution_count": 44,
   "id": "7d416fc0",
   "metadata": {},
   "outputs": [
    {
     "name": "stdout",
     "output_type": "stream",
     "text": [
      "Question for Rs. 1000 is: \n",
      "a Kolakata    b Delhi\n",
      "c Banglore    d Jaipur\n",
      "Enter your answer(1-4) or 0 to quit: 2\n",
      "Correect answer you won Rs.1000\n",
      "------------------------------------------\n",
      "Question for Rs. 2000 is: \n",
      "a Kolakata    b Delhi\n",
      "c Banglore    d Jaipur\n",
      "Enter your answer(1-4) or 0 to quit: 0\n",
      "Thank You take your money-> 2000\n"
     ]
    }
   ],
   "source": [
    "Questions = [[\"What is the capital if India?\",'Kolakata','Delhi', 'Banglore','Jaipur',2],\n",
    "             [\"What is the capital if India?\",'Kolakata','Delhi', 'Banglore','Jaipur',2],\n",
    "             [\"What is the capital if India?\",'Kolakata','Delhi', 'Banglore','Jaipur',2],\n",
    "             [\"What is the capital if India?\",'Kolakata','Delhi', 'Banglore','Jaipur',2],\n",
    "             [\"What is the capital if India?\",'Kolakata','Delhi', 'Banglore','Jaipur',2],\n",
    "             [\"What is the capital if India?\",'Kolakata','Delhi', 'Banglore','Jaipur',2],\n",
    "             [\"What is the capital if India?\",'Kolakata','Delhi', 'Banglore','Jaipur',2],\n",
    "             [\"What is the capital if India?\",'Kolakata','Delhi', 'Banglore','Jaipur',2],\n",
    "             [\"What is the capital if India?\",'Kolakata','Delhi', 'Banglore','Jaipur',2]\n",
    "            ]\n",
    "#Questions[0][1] --> Kolkata\n",
    "levels = [1000,2000,5000,10000,120000,250000,500000,7500000,1000000]\n",
    "for i in range(0,len(Questions)):\n",
    "    question = Questions[i]\n",
    "    print(f\"Question for Rs. {levels[i]} is: \")\n",
    "    print(f\"a {question[1]}    b {question[2]}\")\n",
    "    print(f\"c {question[3]}    d {question[4]}\")\n",
    "    reply = int(input(\"Enter your answer(1-4) or 0 to quit: \"))\n",
    "    if reply == 0:\n",
    "        money = levels[i]\n",
    "        break\n",
    "    if reply == question[-1]:\n",
    "          print(f'Correect answer you won Rs.{levels[i]}')\n",
    "          print('------------------------------------------')\n",
    "          if i <3:\n",
    "            money = 0\n",
    "          elif (i==3):\n",
    "              money=10000\n",
    "          elif (i==6):\n",
    "              money = 500000\n",
    "          elif i==8:\n",
    "              money = 1000000\n",
    "            \n",
    "    else:\n",
    "          print('Wrong Answer.')\n",
    "          break\n",
    "print(f'Thank You take your money-> {money}')"
   ]
  },
  {
   "cell_type": "code",
   "execution_count": null,
   "id": "37326264",
   "metadata": {},
   "outputs": [],
   "source": []
  }
 ],
 "metadata": {
  "kernelspec": {
   "display_name": "Python 3 (ipykernel)",
   "language": "python",
   "name": "python3"
  },
  "language_info": {
   "codemirror_mode": {
    "name": "ipython",
    "version": 3
   },
   "file_extension": ".py",
   "mimetype": "text/x-python",
   "name": "python",
   "nbconvert_exporter": "python",
   "pygments_lexer": "ipython3",
   "version": "3.11.4"
  }
 },
 "nbformat": 4,
 "nbformat_minor": 5
}
