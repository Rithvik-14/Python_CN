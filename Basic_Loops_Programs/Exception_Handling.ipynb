{
 "cells": [
  {
   "cell_type": "code",
   "execution_count": null,
   "id": "d3d23ddd",
   "metadata": {},
   "outputs": [],
   "source": [
    "#Examples for Exception Handling."
   ]
  },
  {
   "cell_type": "code",
   "execution_count": 4,
   "id": "4ff2f7ae",
   "metadata": {},
   "outputs": [
    {
     "name": "stdout",
     "output_type": "stream",
     "text": [
      "Enter an integer: 5\n",
      "Multiples of integer 5 is: \n",
      "5 X 1 is = 5\n",
      "5 X 2 is = 10\n",
      "5 X 3 is = 15\n",
      "5 X 4 is = 20\n",
      "5 X 5 is = 25\n",
      "5 X 6 is = 30\n",
      "5 X 7 is = 35\n",
      "5 X 8 is = 40\n",
      "5 X 9 is = 45\n",
      "5 X 10 is = 50\n"
     ]
    }
   ],
   "source": [
    "a = input('Enter an integer: ')\n",
    "print(f'Multiples of integer {a} is: ')\n",
    "for i in range(1,11):\n",
    "    print(f\"{int(a)} X {i} is = {int(a)*i}\")\n",
    "    "
   ]
  },
  {
   "cell_type": "code",
   "execution_count": 8,
   "id": "80699bbd",
   "metadata": {},
   "outputs": [
    {
     "name": "stdout",
     "output_type": "stream",
     "text": [
      "Enter an integer: hgfd\n",
      "Multiples of integer hgfd is: \n",
      "Invalid input!!!\n",
      "Some extra lines for code\n"
     ]
    }
   ],
   "source": [
    "a = input('Enter an integer: ')\n",
    "print(f'Multiples of integer {a} is: ')\n",
    "try:\n",
    "    for i in range(1,11):\n",
    "        print(f\"{int(a)} X {i} is = {int(a)*i}\")\n",
    "except Exception as e:\n",
    "    print('Invalid input!!!')\n",
    "\n",
    "print('Some extra lines for code')\n",
    "    "
   ]
  },
  {
   "cell_type": "code",
   "execution_count": null,
   "id": "d9ab73db",
   "metadata": {},
   "outputs": [],
   "source": []
  },
  {
   "cell_type": "code",
   "execution_count": 15,
   "id": "92340679",
   "metadata": {},
   "outputs": [
    {
     "name": "stdout",
     "output_type": "stream",
     "text": [
      "Enter the index: dfgh\n",
      "Some error occurred\n",
      "In the final block,I am always executed\n",
      "0\n"
     ]
    }
   ],
   "source": [
    "def func1():\n",
    "  try:\n",
    "    l = [1, 5, 6, 7]\n",
    "    for i in range(len(l)):\n",
    "        i = int(input(\"Enter the index: \"))\n",
    "        print(l[i])\n",
    "        return 1\n",
    "  except:\n",
    "    print(\"Some error occurred\")\n",
    "    return 0\n",
    "\n",
    "  finally:\n",
    "    print(\"In the final block,I am always executed\")\n",
    " #print(\"I am always executed\")\n",
    "\n",
    "\n",
    "x = func1()\n",
    "print(x)\n"
   ]
  },
  {
   "cell_type": "code",
   "execution_count": 27,
   "id": "248b3465",
   "metadata": {},
   "outputs": [
    {
     "name": "stdout",
     "output_type": "stream",
     "text": [
      "Enter a string10\n"
     ]
    },
    {
     "ename": "ValueError",
     "evalue": "Please enter a value within the desired range.",
     "output_type": "error",
     "traceback": [
      "\u001b[1;31m---------------------------------------------------------------------------\u001b[0m",
      "\u001b[1;31mValueError\u001b[0m                                Traceback (most recent call last)",
      "Cell \u001b[1;32mIn[27], line 6\u001b[0m\n\u001b[0;32m      4\u001b[0m \u001b[38;5;28;01melse\u001b[39;00m:\n\u001b[0;32m      5\u001b[0m   \u001b[38;5;28;01mif\u001b[39;00m (\u001b[38;5;28mint\u001b[39m(a)\u001b[38;5;241m>\u001b[39m\u001b[38;5;241m9\u001b[39m \u001b[38;5;129;01mor\u001b[39;00m \u001b[38;5;28mint\u001b[39m(a)\u001b[38;5;241m<\u001b[39m\u001b[38;5;241m6\u001b[39m):\n\u001b[1;32m----> 6\u001b[0m     \u001b[38;5;28;01mraise\u001b[39;00m \u001b[38;5;167;01mValueError\u001b[39;00m(\u001b[38;5;124m\"\u001b[39m\u001b[38;5;124mPlease enter a value within the desired range.\u001b[39m\u001b[38;5;124m\"\u001b[39m)\n",
      "\u001b[1;31mValueError\u001b[0m: Please enter a value within the desired range."
     ]
    }
   ],
   "source": [
    "a = input('Enter a string')\n",
    "if a == \"quit\":\n",
    "  print(\"\\nNo problem. Thanks for you time.\")\n",
    "else:\n",
    "  if (int(a)>9 or int(a)<6):\n",
    "    raise ValueError(\"Please enter a value within the desired range.\")"
   ]
  },
  {
   "cell_type": "code",
   "execution_count": null,
   "id": "cd1e873f",
   "metadata": {},
   "outputs": [],
   "source": []
  }
 ],
 "metadata": {
  "kernelspec": {
   "display_name": "Python 3 (ipykernel)",
   "language": "python",
   "name": "python3"
  },
  "language_info": {
   "codemirror_mode": {
    "name": "ipython",
    "version": 3
   },
   "file_extension": ".py",
   "mimetype": "text/x-python",
   "name": "python",
   "nbconvert_exporter": "python",
   "pygments_lexer": "ipython3",
   "version": "3.11.4"
  }
 },
 "nbformat": 4,
 "nbformat_minor": 5
}
