{
 "cells": [
  {
   "cell_type": "markdown",
   "id": "d3b2f7ac",
   "metadata": {},
   "source": [
    "Find the prime number."
   ]
  },
  {
   "cell_type": "code",
   "execution_count": 10,
   "id": "9a609499",
   "metadata": {},
   "outputs": [
    {
     "name": "stdout",
     "output_type": "stream",
     "text": [
      "7\n",
      "Prime\n"
     ]
    }
   ],
   "source": [
    "n=int(input())\n",
    "d=2\n",
    "flag=False\n",
    "while d < n:\n",
    "    if n % 2 == 0:\n",
    "        flag=True\n",
    "    d = d + 1\n",
    "\n",
    "if flag==False:\n",
    "    print('Prime')\n",
    "else:\n",
    "    print('NotPrime')"
   ]
  },
  {
   "cell_type": "code",
   "execution_count": null,
   "id": "b853a712",
   "metadata": {},
   "outputs": [],
   "source": []
  },
  {
   "cell_type": "markdown",
   "id": "c869e177",
   "metadata": {},
   "source": [
    "Find the Prime numbers within th given N."
   ]
  },
  {
   "cell_type": "code",
   "execution_count": 8,
   "id": "912500e8",
   "metadata": {},
   "outputs": [
    {
     "name": "stdout",
     "output_type": "stream",
     "text": [
      "8\n",
      "2\n",
      "3\n",
      "5\n",
      "7\n"
     ]
    }
   ],
   "source": [
    "n = int(input())\n",
    "k=2\n",
    "while k < n:\n",
    "    d=2\n",
    "    flag=False\n",
    "    while d < k:\n",
    "        if k % 2 == 0:\n",
    "            flag = True\n",
    "        d = d + 1\n",
    "    \n",
    "    if flag==False:\n",
    "        print(k)\n",
    "    k = k + 1"
   ]
  },
  {
   "cell_type": "code",
   "execution_count": null,
   "id": "e37a69c4",
   "metadata": {},
   "outputs": [],
   "source": []
  },
  {
   "cell_type": "code",
   "execution_count": null,
   "id": "09aacdf4",
   "metadata": {},
   "outputs": [],
   "source": []
  },
  {
   "cell_type": "code",
   "execution_count": 13,
   "id": "061f5021",
   "metadata": {},
   "outputs": [
    {
     "name": "stdout",
     "output_type": "stream",
     "text": [
      "Enter starting temperature in Fahrenheit: 0\n",
      "Enter ending temperature in Fahrenheit: 100\n",
      "Enter temperature increment: 20\n",
      "0   -17.77777777777778\n",
      "20   -6.666666666666667\n",
      "40   4.444444444444445\n",
      "60   15.555555555555555\n",
      "80   26.666666666666668\n"
     ]
    }
   ],
   "source": [
    "s = int(input(\"Enter starting temperature in Fahrenheit: \"))\n",
    "e = int(input(\"Enter ending temperature in Fahrenheit: \"))\n",
    "w = int(input(\"Enter temperature increment: \"))\n",
    "\n",
    "while 0 <= s <= 90 and s <= e <= 900:\n",
    "    c = (s - 32) * 5/9\n",
    "    print(s, \" \", c)\n",
    "    s = s + w"
   ]
  },
  {
   "cell_type": "code",
   "execution_count": null,
   "id": "414b315f",
   "metadata": {},
   "outputs": [],
   "source": []
  },
  {
   "cell_type": "code",
   "execution_count": 14,
   "id": "f2225475",
   "metadata": {},
   "outputs": [
    {
     "name": "stdout",
     "output_type": "stream",
     "text": [
      "36\n",
      "618\n",
      "78\n",
      "36   2\n",
      "114   45\n",
      "192   88\n",
      "270   132\n",
      "348   175\n",
      "426   218\n",
      "504   262\n",
      "582   305\n"
     ]
    }
   ],
   "source": [
    "S = int(input())\n",
    "E = int(input())\n",
    "W = int(input())\n",
    "\n",
    "curr_temp=S\n",
    "while curr_temp<=E:\n",
    "    c= 5/9*(curr_temp-32)\n",
    "    print(curr_temp,\" \",int(c))\n",
    "    curr_temp=curr_temp+W"
   ]
  },
  {
   "cell_type": "code",
   "execution_count": null,
   "id": "de5c4a5d",
   "metadata": {},
   "outputs": [],
   "source": []
  }
 ],
 "metadata": {
  "kernelspec": {
   "display_name": "Python 3 (ipykernel)",
   "language": "python",
   "name": "python3"
  },
  "language_info": {
   "codemirror_mode": {
    "name": "ipython",
    "version": 3
   },
   "file_extension": ".py",
   "mimetype": "text/x-python",
   "name": "python",
   "nbconvert_exporter": "python",
   "pygments_lexer": "ipython3",
   "version": "3.11.4"
  }
 },
 "nbformat": 4,
 "nbformat_minor": 5
}
