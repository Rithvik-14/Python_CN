{
 "cells": [
  {
   "cell_type": "markdown",
   "id": "72b2d932",
   "metadata": {},
   "source": [
    "1). 7777\n",
    "    7777\n",
    "    7777\n",
    "    7777"
   ]
  },
  {
   "cell_type": "code",
   "execution_count": 2,
   "id": "e922af95",
   "metadata": {},
   "outputs": [
    {
     "name": "stdout",
     "output_type": "stream",
     "text": [
      "4\n",
      "4444\n",
      "4444\n",
      "4444\n",
      "4444\n"
     ]
    }
   ],
   "source": [
    "n=int(input())\n",
    "i=1\n",
    "while i<=n:\n",
    "    j=1\n",
    "    while j<=n:\n",
    "        print(n,end=\"\")\n",
    "        j=j+1\n",
    "    print()\n",
    "    i=i+1"
   ]
  },
  {
   "cell_type": "markdown",
   "id": "a2c4295c",
   "metadata": {},
   "source": []
  },
  {
   "cell_type": "markdown",
   "id": "59303db5",
   "metadata": {},
   "source": [
    "2). 4321\n",
    "    4321\n",
    "    4321\n",
    "    4321"
   ]
  },
  {
   "cell_type": "code",
   "execution_count": 5,
   "id": "c250a2e6",
   "metadata": {},
   "outputs": [
    {
     "name": "stdout",
     "output_type": "stream",
     "text": [
      "5\n",
      "4321\n",
      "4321\n",
      "4321\n",
      "4321\n"
     ]
    }
   ],
   "source": [
    "# 1st method.\n",
    "n=int(input())\n",
    "i=1\n",
    "while i<n:\n",
    "    j=1\n",
    "    while j<n:\n",
    "        print(n-j,end=\"\")\n",
    "        j=j+1\n",
    "    print()\n",
    "    i=i+1"
   ]
  },
  {
   "cell_type": "code",
   "execution_count": 4,
   "id": "a7533999",
   "metadata": {},
   "outputs": [
    {
     "name": "stdout",
     "output_type": "stream",
     "text": [
      "5\n",
      "54321\n",
      "54321\n",
      "54321\n",
      "54321\n",
      "54321\n"
     ]
    }
   ],
   "source": [
    "#2nd Method\n",
    "n=int(input())\n",
    "i=1\n",
    "while i<=n:\n",
    "    j=1\n",
    "    while j<=n:\n",
    "        print(n-j+1,end=\"\")\n",
    "        j=j+1\n",
    "    print()\n",
    "    i=i+1"
   ]
  },
  {
   "cell_type": "markdown",
   "id": "4ca22d4a",
   "metadata": {},
   "source": [
    "3). 1\n",
    "    12\n",
    "    123\n",
    "    1234\n",
    "    "
   ]
  },
  {
   "cell_type": "code",
   "execution_count": 6,
   "id": "7e18c8f1",
   "metadata": {},
   "outputs": [
    {
     "name": "stdout",
     "output_type": "stream",
     "text": [
      "4\n",
      "1\n",
      "12\n",
      "123\n",
      "1234\n"
     ]
    }
   ],
   "source": [
    "n=int(input())\n",
    "i=1\n",
    "while i<=n:\n",
    "    j=1\n",
    "    while j<=i:\n",
    "        print(j,end=\"\")\n",
    "        j=j+1\n",
    "    print()\n",
    "    i=i+1"
   ]
  },
  {
   "cell_type": "code",
   "execution_count": null,
   "id": "7b4af34c",
   "metadata": {},
   "outputs": [],
   "source": []
  },
  {
   "cell_type": "markdown",
   "id": "9078e9e3",
   "metadata": {},
   "source": [
    "4). 1\n",
    "    23\n",
    "    345\n",
    "    4567"
   ]
  },
  {
   "cell_type": "code",
   "execution_count": 11,
   "id": "98fc8a83",
   "metadata": {},
   "outputs": [
    {
     "name": "stdout",
     "output_type": "stream",
     "text": [
      "4\n",
      "1\n",
      "23\n",
      "345\n",
      "4567\n"
     ]
    }
   ],
   "source": [
    "n=int(input())\n",
    "i=1\n",
    "while i<=n:\n",
    "    j=1\n",
    "    p=i\n",
    "    while j<=i:\n",
    "        print(p,end=\"\")\n",
    "        j=j+1\n",
    "        p=p+1\n",
    "    print()\n",
    "    i=i+1"
   ]
  },
  {
   "cell_type": "code",
   "execution_count": null,
   "id": "eab8fc13",
   "metadata": {},
   "outputs": [],
   "source": []
  },
  {
   "cell_type": "markdown",
   "id": "63ef090b",
   "metadata": {},
   "source": [
    "5). 1\n",
    "    23\n",
    "    456\n",
    "    78910"
   ]
  },
  {
   "cell_type": "code",
   "execution_count": 12,
   "id": "89957732",
   "metadata": {},
   "outputs": [
    {
     "name": "stdout",
     "output_type": "stream",
     "text": [
      "4\n",
      "1\n",
      "23\n",
      "456\n",
      "78910\n"
     ]
    }
   ],
   "source": [
    "n=int(input())\n",
    "i=1\n",
    "p=1\n",
    "while i<=n:\n",
    "    j=1\n",
    "    while j<=i:\n",
    "        print(p,end=\"\")\n",
    "        j=j+1\n",
    "        p=p+1\n",
    "    print()\n",
    "    i=i+1"
   ]
  },
  {
   "cell_type": "code",
   "execution_count": null,
   "id": "9c619590",
   "metadata": {},
   "outputs": [],
   "source": []
  },
  {
   "cell_type": "markdown",
   "id": "453c3e67",
   "metadata": {},
   "source": [
    "6). 1\n",
    "    21\n",
    "    321\n",
    "    4321\n",
    "    54321"
   ]
  },
  {
   "cell_type": "code",
   "execution_count": 13,
   "id": "aaf4bbc5",
   "metadata": {},
   "outputs": [
    {
     "name": "stdout",
     "output_type": "stream",
     "text": [
      "5\n",
      "1\n",
      "21\n",
      "321\n",
      "4321\n",
      "54321\n"
     ]
    }
   ],
   "source": [
    "n=int(input())\n",
    "i=1\n",
    "while i <= n:\n",
    "    j = 1\n",
    "    p=i\n",
    "    while j <= i:\n",
    "        print(p,end = \"\")\n",
    "        p=p-1\n",
    "        j=j+1\n",
    "    print()\n",
    "    i=i+1\n"
   ]
  },
  {
   "cell_type": "code",
   "execution_count": null,
   "id": "0ca52195",
   "metadata": {},
   "outputs": [],
   "source": []
  },
  {
   "cell_type": "code",
   "execution_count": null,
   "id": "d5a7e4ef",
   "metadata": {},
   "outputs": [],
   "source": []
  },
  {
   "cell_type": "markdown",
   "id": "58c03747",
   "metadata": {},
   "source": [
    "Q). 1\n",
    "    11\n",
    "    121\n",
    "    1221\n",
    "    12221"
   ]
  },
  {
   "cell_type": "code",
   "execution_count": 4,
   "id": "9bcefb1b",
   "metadata": {},
   "outputs": [
    {
     "name": "stdout",
     "output_type": "stream",
     "text": [
      "4\n",
      "1\n",
      "11\n",
      "121\n",
      "1221\n"
     ]
    }
   ],
   "source": [
    "n=int(input())\n",
    "print(1)\n",
    "i=1\n",
    "while(i<n):\n",
    "    j=0\n",
    "    while(j<i+1):\n",
    "        if(j==0 or j==i):\n",
    "            print(1,end=\"\")\n",
    "        else:\n",
    "            print(2,end=\"\")\n",
    "        j=j+1\n",
    "    print()    \n",
    "    i=i+1"
   ]
  },
  {
   "cell_type": "code",
   "execution_count": null,
   "id": "6173e573",
   "metadata": {},
   "outputs": [],
   "source": []
  },
  {
   "cell_type": "markdown",
   "id": "3eb3390b",
   "metadata": {},
   "source": [
    "Q). 1234\n",
    "    123\n",
    "    12\n",
    "    1"
   ]
  },
  {
   "cell_type": "code",
   "execution_count": 11,
   "id": "63978b98",
   "metadata": {},
   "outputs": [
    {
     "name": "stdout",
     "output_type": "stream",
     "text": [
      "4\n",
      "1234\n",
      "123\n",
      "12\n",
      "1\n"
     ]
    }
   ],
   "source": [
    "n=int(input())\n",
    "i=n\n",
    "while i>0:\n",
    "    j=1\n",
    "    while j<=i:\n",
    "        print(j,end=\"\")\n",
    "        j=j+1\n",
    "    print()\n",
    "    i=i-1"
   ]
  },
  {
   "cell_type": "code",
   "execution_count": null,
   "id": "c519c3ac",
   "metadata": {},
   "outputs": [],
   "source": []
  },
  {
   "cell_type": "markdown",
   "id": "87788170",
   "metadata": {},
   "source": [
    "A\n",
    "BB\n",
    "CCC\n",
    "DDDD\n"
   ]
  },
  {
   "cell_type": "code",
   "execution_count": 1,
   "id": "17bfe49e",
   "metadata": {},
   "outputs": [
    {
     "name": "stdout",
     "output_type": "stream",
     "text": [
      "4\n",
      "A\n",
      "BB\n",
      "CCC\n",
      "DDDD\n"
     ]
    }
   ],
   "source": [
    "\n",
    "n = int(input())\n",
    "i = 1\n",
    "\n",
    "while i <= n:\n",
    "    j = 1\n",
    "    start_char = chr(ord('A') + i - 1)\n",
    "    \n",
    "    while j <= i:\n",
    "        print(start_char, end=\"\")\n",
    "        j = j + 1\n",
    "\n",
    "    print()\n",
    "    i = i + 1"
   ]
  },
  {
   "cell_type": "code",
   "execution_count": null,
   "id": "a1c7c993",
   "metadata": {},
   "outputs": [],
   "source": []
  },
  {
   "cell_type": "markdown",
   "id": "bb7a7d88",
   "metadata": {},
   "source": [
    "Q). 1\n",
    "    11\n",
    "    202\n",
    "    3003"
   ]
  },
  {
   "cell_type": "code",
   "execution_count": 3,
   "id": "1b551e15",
   "metadata": {},
   "outputs": [
    {
     "name": "stdout",
     "output_type": "stream",
     "text": [
      "4\n",
      "1\n",
      "11\n",
      "202\n",
      "3003\n"
     ]
    }
   ],
   "source": [
    "n=int(input())\n",
    "print(1)\n",
    "i=1\n",
    "while(i<n):\n",
    "    j=0\n",
    "    while(j<i+1):\n",
    "        if(j==0 or j==i):\n",
    "            print(i,end=\"\")\n",
    "        else:\n",
    "            print(0,end=\"\")\n",
    "        j=j+1\n",
    "    i=i+1\n",
    "    print()"
   ]
  },
  {
   "cell_type": "code",
   "execution_count": null,
   "id": "b57326a6",
   "metadata": {},
   "outputs": [],
   "source": []
  },
  {
   "cell_type": "markdown",
   "id": "68dabe3f",
   "metadata": {},
   "source": [
    "Q). A\n",
    "    BC\n",
    "    CDE\n",
    "    DEFG"
   ]
  },
  {
   "cell_type": "code",
   "execution_count": 5,
   "id": "46636616",
   "metadata": {},
   "outputs": [
    {
     "name": "stdout",
     "output_type": "stream",
     "text": [
      "4\n",
      "A\n",
      "BC\n",
      "CDE\n",
      "DEFG\n"
     ]
    }
   ],
   "source": [
    "n=int(input())\n",
    "i=1\n",
    "while i<=n:\n",
    "    j=1\n",
    "    ch=ord('A') +i -1\n",
    "    \n",
    "    while j <= i:\n",
    "        chro=chr(ch +j-1)\n",
    "        print(chro,end=\"\")\n",
    "        j +=1\n",
    "\n",
    "    print()\n",
    "    i+=1"
   ]
  },
  {
   "cell_type": "code",
   "execution_count": null,
   "id": "4a5d493f",
   "metadata": {},
   "outputs": [],
   "source": []
  }
 ],
 "metadata": {
  "kernelspec": {
   "display_name": "Python 3 (ipykernel)",
   "language": "python",
   "name": "python3"
  },
  "language_info": {
   "codemirror_mode": {
    "name": "ipython",
    "version": 3
   },
   "file_extension": ".py",
   "mimetype": "text/x-python",
   "name": "python",
   "nbconvert_exporter": "python",
   "pygments_lexer": "ipython3",
   "version": "3.11.4"
  }
 },
 "nbformat": 4,
 "nbformat_minor": 5
}
