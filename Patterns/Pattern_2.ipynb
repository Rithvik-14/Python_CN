{
 "cells": [
  {
   "cell_type": "raw",
   "id": "42229576",
   "metadata": {},
   "source": [
    "Q1). ****\n",
    "     ***\n",
    "     **\n",
    "     *"
   ]
  },
  {
   "cell_type": "code",
   "execution_count": 2,
   "id": "c706e641",
   "metadata": {},
   "outputs": [
    {
     "name": "stdout",
     "output_type": "stream",
     "text": [
      "5\n",
      "*****\n",
      "****\n",
      "***\n",
      "**\n",
      "*\n"
     ]
    }
   ],
   "source": [
    "n=int(input())\n",
    "i=n\n",
    "while i>0:\n",
    "    j=1\n",
    "    while j<=i:\n",
    "        print('*',end=\"\")\n",
    "        j=j+1\n",
    "    print()\n",
    "    i=i-1"
   ]
  },
  {
   "cell_type": "code",
   "execution_count": 3,
   "id": "ad836820",
   "metadata": {},
   "outputs": [
    {
     "name": "stdout",
     "output_type": "stream",
     "text": [
      "5\n",
      "*****\n",
      "****\n",
      "***\n",
      "**\n",
      "*\n"
     ]
    }
   ],
   "source": [
    "# Method 2:\n",
    "n=int(input())\n",
    "i=1\n",
    "while i<=n:\n",
    "    j=1\n",
    "    while j<=n-i+1:\n",
    "        print('*',end=\"\")\n",
    "        j=j+1\n",
    "    print()\n",
    "    i=i+1"
   ]
  },
  {
   "cell_type": "code",
   "execution_count": null,
   "id": "1b71c528",
   "metadata": {},
   "outputs": [],
   "source": []
  },
  {
   "cell_type": "raw",
   "id": "e19a57ae",
   "metadata": {},
   "source": [
    "Q2).     *\n",
    "        **\n",
    "       ***\n",
    "      ****"
   ]
  },
  {
   "cell_type": "code",
   "execution_count": 7,
   "id": "47da3a40",
   "metadata": {},
   "outputs": [
    {
     "name": "stdout",
     "output_type": "stream",
     "text": [
      "4\n",
      "   *\n",
      "  **\n",
      " ***\n",
      "****\n"
     ]
    }
   ],
   "source": [
    "n = int(input())\n",
    "i=1\n",
    "while i <= n:\n",
    "    spaces = 1\n",
    "    while spaces <= n-i:\n",
    "        print(' ',end=\"\")\n",
    "        spaces = spaces + 1\n",
    "    star = 1\n",
    "    while star<=i:\n",
    "        print(\"*\",end = \"\")\n",
    "        star = star + 1\n",
    "    print()\n",
    "    i = i + 1"
   ]
  },
  {
   "cell_type": "code",
   "execution_count": null,
   "id": "c7cbfcf0",
   "metadata": {},
   "outputs": [],
   "source": []
  },
  {
   "cell_type": "raw",
   "id": "fc2f6a89",
   "metadata": {},
   "source": [
    "3).  *\n",
    "    ***\n",
    "   *****\n",
    "  *******"
   ]
  },
  {
   "cell_type": "code",
   "execution_count": 10,
   "id": "26ece2bd",
   "metadata": {},
   "outputs": [
    {
     "name": "stdout",
     "output_type": "stream",
     "text": [
      "4\n",
      "   *\n",
      "  ***\n",
      " *****\n",
      "*******\n"
     ]
    }
   ],
   "source": [
    "n = int(input())\n",
    "i = 1\n",
    "\n",
    "while i <= n:\n",
    "    spaces = 1\n",
    "    while spaces <= n - i:\n",
    "        print(' ', end=\"\")\n",
    "        spaces = spaces + 1\n",
    "\n",
    "    j = 1\n",
    "    while j <= i:\n",
    "        print(\"*\", end=\"\")\n",
    "        j = j + 1\n",
    "\n",
    "    p = i - 1  # Reset p to the correct value\n",
    "    while p >= 1:\n",
    "        print(\"*\", end=\"\")\n",
    "        p = p - 1\n",
    "\n",
    "    print()\n",
    "    i = i + 1"
   ]
  },
  {
   "cell_type": "code",
   "execution_count": null,
   "id": "e80ae2ab",
   "metadata": {},
   "outputs": [],
   "source": []
  },
  {
   "cell_type": "raw",
   "id": "c8f3be77",
   "metadata": {},
   "source": [
    "4).  1\n",
    "    121\n",
    "   12321\n",
    "  1234321"
   ]
  },
  {
   "cell_type": "code",
   "execution_count": 15,
   "id": "e07ae956",
   "metadata": {},
   "outputs": [
    {
     "name": "stdout",
     "output_type": "stream",
     "text": [
      "4\n",
      "   1\n",
      "  121\n",
      " 12321\n",
      "1234321\n"
     ]
    }
   ],
   "source": [
    "n = int(input())\n",
    "i=1\n",
    "while i <= n:\n",
    "    space =1\n",
    "# this is adding the space.\n",
    "    while space<= n-i:\n",
    "        print(' ',end=\"\")\n",
    "        space = space + 1\n",
    "    j = 1\n",
    "# This is incrementing the sequnce.\n",
    "    while j <= i:\n",
    "        print(j,end=\"\")\n",
    "        j = j+1\n",
    "# this is decrementing the sequnce (the other half)\n",
    "    p = i - 1\n",
    "    while p>=1:\n",
    "        print(p,end=\"\")\n",
    "        p = p -1\n",
    "    print()\n",
    "    i = i + 1"
   ]
  },
  {
   "cell_type": "code",
   "execution_count": null,
   "id": "0a94cf09",
   "metadata": {},
   "outputs": [],
   "source": []
  },
  {
   "cell_type": "raw",
   "id": "5186f870",
   "metadata": {},
   "source": [
    "5).  1\n",
    "    232\n",
    "   34543\n",
    "  4567654"
   ]
  },
  {
   "cell_type": "code",
   "execution_count": 38,
   "id": "7e8ab7e1",
   "metadata": {},
   "outputs": [
    {
     "name": "stdout",
     "output_type": "stream",
     "text": [
      "4\n",
      "   1\n",
      "  232\n",
      " 34543\n",
      "4567654\n"
     ]
    }
   ],
   "source": [
    "n = int(input())\n",
    "i=1\n",
    "while i <= n:\n",
    "    space=1\n",
    "    while space <= n-i:\n",
    "        print(' ',end=\"\")\n",
    "        space+=1\n",
    "    j=1\n",
    "    p=i\n",
    "    while j<=i:\n",
    "        print(p,end=\"\")\n",
    "        p=p+1\n",
    "        j=j+1\n",
    "    \n",
    "    p = 2*(i-1)\n",
    "    while p>=i:\n",
    "        print(p,end=\"\")\n",
    "        p=p-1\n",
    "    print()\n",
    "    i=i+1"
   ]
  },
  {
   "cell_type": "code",
   "execution_count": 36,
   "id": "b4682781",
   "metadata": {},
   "outputs": [
    {
     "name": "stdout",
     "output_type": "stream",
     "text": [
      "4\n",
      "   1\n",
      "  232\n",
      " 34543\n",
      "4567654\n"
     ]
    }
   ],
   "source": [
    "n = int(input())\n",
    "i = 1\n",
    "\n",
    "while i <= n:\n",
    "    space = 1\n",
    "    while space <= n - i:\n",
    "        print(' ', end=\"\")\n",
    "        space += 1\n",
    "\n",
    "    j = 1\n",
    "    p = i\n",
    "    while j <= i:\n",
    "        print(p, end=\"\")\n",
    "        p = p + 1\n",
    "        j = j + 1\n",
    "    \n",
    "    p = 2 * (i - 1)\n",
    "    while p >= i:\n",
    "        print(p, end=\"\")\n",
    "        p = p - 1\n",
    "\n",
    "    print()\n",
    "    i = i + 1"
   ]
  },
  {
   "cell_type": "code",
   "execution_count": null,
   "id": "b411adaa",
   "metadata": {},
   "outputs": [],
   "source": []
  },
  {
   "cell_type": "raw",
   "id": "b49736b6",
   "metadata": {},
   "source": [
    "6).   *\n",
    "     ***\n",
    "    *****\n",
    "     ***\n",
    "      *\n"
   ]
  },
  {
   "cell_type": "code",
   "execution_count": 47,
   "id": "576f2c63",
   "metadata": {},
   "outputs": [
    {
     "name": "stdout",
     "output_type": "stream",
     "text": [
      "3\n",
      "  *\n",
      " ***\n",
      "*****\n",
      " ***\n",
      "  *\n"
     ]
    }
   ],
   "source": [
    "n = int(input())\n",
    "i = 1\n",
    "\n",
    "# Print the upper part of the diamond\n",
    "while i <= n:\n",
    "    space = 1\n",
    "    while space <= n - i:\n",
    "        print(' ', end=\"\")\n",
    "        space += 1\n",
    "\n",
    "    j = 1\n",
    "    while j <= 2 * i - 1:\n",
    "        print('*', end=\"\")\n",
    "        j = j + 1\n",
    "\n",
    "    print()\n",
    "    i = i + 1\n",
    "\n",
    "# Print the lower part of the diamond\n",
    "i = n - 1\n",
    "while i >= 1:\n",
    "    space = 1\n",
    "    while space <= n - i:\n",
    "        print(' ', end=\"\")\n",
    "        space += 1\n",
    "\n",
    "    j = 1\n",
    "    while j <= 2 * i - 1:\n",
    "        print('*', end=\"\")\n",
    "        j = j + 1\n",
    "\n",
    "    print()\n",
    "    i = i - 1"
   ]
  },
  {
   "cell_type": "code",
   "execution_count": null,
   "id": "72f1e625",
   "metadata": {},
   "outputs": [],
   "source": []
  },
  {
   "cell_type": "code",
   "execution_count": null,
   "id": "bcb28f09",
   "metadata": {},
   "outputs": [],
   "source": []
  },
  {
   "cell_type": "code",
   "execution_count": 18,
   "id": "5af14b5c",
   "metadata": {},
   "outputs": [
    {
     "name": "stdout",
     "output_type": "stream",
     "text": [
      "4\n",
      "   *\n",
      "  ***\n",
      " *****\n",
      "*******\n",
      " *****\n",
      "  ***\n",
      "   *\n"
     ]
    }
   ],
   "source": [
    "n = int(input())\n",
    "i=1\n",
    "while i <= n:\n",
    "    space =1\n",
    "# this is adding the space.\n",
    "    while space<= n-i:\n",
    "        print(' ',end=\"\")\n",
    "        space = space + 1\n",
    "    j = 1\n",
    "# This is incrementing the sequnce.\n",
    "    while j <= i:\n",
    "        print('*',end=\"\")\n",
    "        j = j+1\n",
    "# this is decrementing the sequnce (the other half)\n",
    "    p = i - 1\n",
    "    while p>=1:\n",
    "        print('*',end=\"\")\n",
    "        p = p -1\n",
    "    print()\n",
    "    i = i + 1\n",
    "\n",
    "# 2nd half of the sequence.   \n",
    "i = n - 1\n",
    "while i >= 1:\n",
    "    space = 1\n",
    "    while space <= n-i:\n",
    "        print(' ',end=\"\")\n",
    "        space = space + 1\n",
    "    j=1\n",
    "    while j <= i:\n",
    "        print('*',end=\"\")\n",
    "        j+=1\n",
    "    \n",
    "    num=i-1\n",
    "    while num>=1:\n",
    "        print('*',end=\"\")\n",
    "        num-=1\n",
    "        \n",
    "    print()\n",
    "    i-=1"
   ]
  },
  {
   "cell_type": "code",
   "execution_count": null,
   "id": "9ced1c81",
   "metadata": {},
   "outputs": [],
   "source": []
  },
  {
   "cell_type": "code",
   "execution_count": null,
   "id": "31177581",
   "metadata": {},
   "outputs": [],
   "source": []
  }
 ],
 "metadata": {
  "kernelspec": {
   "display_name": "Python 3 (ipykernel)",
   "language": "python",
   "name": "python3"
  },
  "language_info": {
   "codemirror_mode": {
    "name": "ipython",
    "version": 3
   },
   "file_extension": ".py",
   "mimetype": "text/x-python",
   "name": "python",
   "nbconvert_exporter": "python",
   "pygments_lexer": "ipython3",
   "version": "3.11.4"
  }
 },
 "nbformat": 4,
 "nbformat_minor": 5
}
