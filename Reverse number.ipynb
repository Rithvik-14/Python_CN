{
 "cells": [
  {
   "cell_type": "markdown",
   "id": "c0403f2f",
   "metadata": {},
   "source": [
    "Reverse the given number(n). and if it has trailing zeroes,don't add it.\n",
    "a- 120300 .... 3021"
   ]
  },
  {
   "cell_type": "code",
   "execution_count": 12,
   "id": "69f44977",
   "metadata": {},
   "outputs": [
    {
     "name": "stdout",
     "output_type": "stream",
     "text": [
      "1230400500\n",
      "50040321\n"
     ]
    }
   ],
   "source": [
    "n=int(input())\n",
    "total = 0\n",
    "while n!=0:\n",
    "    mod = n%10\n",
    "    total= (total*10) + mod\n",
    "    n=n//10\n",
    "print(total)"
   ]
  },
  {
   "cell_type": "markdown",
   "id": "36716e12",
   "metadata": {},
   "source": [
    "2). Palindrome number"
   ]
  },
  {
   "cell_type": "code",
   "execution_count": 15,
   "id": "2eb79b57",
   "metadata": {},
   "outputs": [
    {
     "name": "stdout",
     "output_type": "stream",
     "text": [
      "1221\n",
      "1221\n",
      "True\n"
     ]
    }
   ],
   "source": [
    "n=int(input())\n",
    "demo_n=n\n",
    "total = 0\n",
    "while n!=0:\n",
    "    mod=n%10\n",
    "    total=(total*10) + mod\n",
    "    n=n//10\n",
    "print(total)\n",
    "    \n",
    "if total==demo_n:\n",
    "    print(True)\n",
    "else:\n",
    "    print(False)"
   ]
  },
  {
   "cell_type": "code",
   "execution_count": null,
   "id": "f72a4c7b",
   "metadata": {},
   "outputs": [],
   "source": []
  },
  {
   "cell_type": "markdown",
   "id": "f2cb51ae",
   "metadata": {},
   "source": [
    "3). sum of even and odd digits. "
   ]
  },
  {
   "cell_type": "code",
   "execution_count": 25,
   "id": "75ed0d74",
   "metadata": {},
   "outputs": [
    {
     "name": "stdout",
     "output_type": "stream",
     "text": [
      "1362\n",
      "4   8\n"
     ]
    }
   ],
   "source": [
    "# This is the 1st method.\n",
    "n=int(input())\n",
    "new_str = str(n)   # we are converting to string bcz len(int) cn't be done.\n",
    "even=0\n",
    "odd=0\n",
    "i=0\n",
    "while i< len(new_str):\n",
    "    digit = int(new_str[i])\n",
    "    if digit%2==0:\n",
    "        even = even + digit\n",
    "    else:\n",
    "        odd = odd + digit\n",
    "    i=i+1\n",
    "print(odd,' ',even)"
   ]
  },
  {
   "cell_type": "code",
   "execution_count": 28,
   "id": "2b0facb9",
   "metadata": {},
   "outputs": [
    {
     "name": "stdout",
     "output_type": "stream",
     "text": [
      "23647\n",
      "10   12\n"
     ]
    }
   ],
   "source": [
    "# 2nd method.\n",
    "n=int(input())\n",
    "even=0\n",
    "odd=0\n",
    "while n != 0:\n",
    "    digit = n % 10\n",
    "    if digit % 2 == 0:\n",
    "            even = even +digit\n",
    "    else:\n",
    "            odd = odd + digit\n",
    "    n = n//10\n",
    "print(odd,\" \",even)"
   ]
  },
  {
   "cell_type": "code",
   "execution_count": null,
   "id": "5c070205",
   "metadata": {},
   "outputs": [],
   "source": []
  },
  {
   "cell_type": "markdown",
   "id": "737063cb",
   "metadata": {},
   "source": [
    "3). Fibbonacci.\n",
    "1,1,2,3,5,8 .....--> i/p: 6(pos)  o/p: 8"
   ]
  },
  {
   "cell_type": "code",
   "execution_count": 29,
   "id": "022add02",
   "metadata": {},
   "outputs": [
    {
     "name": "stdout",
     "output_type": "stream",
     "text": [
      "6\n"
     ]
    },
    {
     "ename": "KeyboardInterrupt",
     "evalue": "",
     "output_type": "error",
     "traceback": [
      "\u001b[1;31m---------------------------------------------------------------------------\u001b[0m",
      "\u001b[1;31mKeyboardInterrupt\u001b[0m                         Traceback (most recent call last)",
      "Cell \u001b[1;32mIn[29], line 5\u001b[0m\n\u001b[0;32m      3\u001b[0m num2\u001b[38;5;241m=\u001b[39m\u001b[38;5;241m1\u001b[39m\n\u001b[0;32m      4\u001b[0m temp\u001b[38;5;241m=\u001b[39m\u001b[38;5;241m0\u001b[39m\n\u001b[1;32m----> 5\u001b[0m \u001b[38;5;28;01mwhile\u001b[39;00m n \u001b[38;5;241m!=\u001b[39m \u001b[38;5;241m0\u001b[39m:\n\u001b[0;32m      6\u001b[0m     temp \u001b[38;5;241m=\u001b[39m num1 \u001b[38;5;241m+\u001b[39m num2\n\u001b[0;32m      7\u001b[0m     num2 \u001b[38;5;241m=\u001b[39m num1\n",
      "\u001b[1;31mKeyboardInterrupt\u001b[0m: "
     ]
    }
   ],
   "source": [
    "n = int(input())\n",
    "num1=1\n",
    "num2=1\n",
    "temp=0\n",
    "while n != 0:\n",
    "    temp = num1 + num2\n",
    "    num2 = num1\n",
    "    temp = num2\n",
    "print(temp)"
   ]
  },
  {
   "cell_type": "code",
   "execution_count": null,
   "id": "dd96f2ba",
   "metadata": {},
   "outputs": [],
   "source": []
  },
  {
   "cell_type": "code",
   "execution_count": 31,
   "id": "8b385c4f",
   "metadata": {},
   "outputs": [
    {
     "name": "stdout",
     "output_type": "stream",
     "text": [
      "6\n",
      "8\n"
     ]
    }
   ],
   "source": [
    "n = int(input())\n",
    "num1 = 1\n",
    "num2 = 1\n",
    "temp = 0\n",
    "\n",
    "# Check if n is less than 3, in which case the nth Fibonacci number is 1.\n",
    "if n < 3:\n",
    "    temp = 1\n",
    "else:\n",
    "    i = 3\n",
    "    while i <= n:\n",
    "        temp = num1 + num2\n",
    "        num1 = num2\n",
    "        num2 = temp\n",
    "        i += 1\n",
    "\n",
    "print(temp)\n"
   ]
  },
  {
   "cell_type": "code",
   "execution_count": null,
   "id": "612f38f7",
   "metadata": {},
   "outputs": [],
   "source": []
  }
 ],
 "metadata": {
  "kernelspec": {
   "display_name": "Python 3 (ipykernel)",
   "language": "python",
   "name": "python3"
  },
  "language_info": {
   "codemirror_mode": {
    "name": "ipython",
    "version": 3
   },
   "file_extension": ".py",
   "mimetype": "text/x-python",
   "name": "python",
   "nbconvert_exporter": "python",
   "pygments_lexer": "ipython3",
   "version": "3.11.4"
  }
 },
 "nbformat": 4,
 "nbformat_minor": 5
}
