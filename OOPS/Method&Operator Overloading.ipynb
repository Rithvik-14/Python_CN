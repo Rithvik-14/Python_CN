{
 "cells": [
  {
   "cell_type": "code",
   "execution_count": 23,
   "id": "696da5f5",
   "metadata": {},
   "outputs": [],
   "source": [
    "# Method Overloading."
   ]
  },
  {
   "cell_type": "code",
   "execution_count": 2,
   "id": "c12bf8f4",
   "metadata": {},
   "outputs": [
    {
     "name": "stdout",
     "output_type": "stream",
     "text": [
      "15\n",
      "78.5\n"
     ]
    }
   ],
   "source": [
    "class Shape:\n",
    "  def __init__(self, x, y):\n",
    "    self.x = x\n",
    "    self.y = y\n",
    "    \n",
    "  def area(self):\n",
    "      return self.x * self.y\n",
    "\n",
    "class Circle(Shape):\n",
    "    def __init__(self, radius):\n",
    "      self.radius = radius\n",
    "      super().__init__(radius, radius)\n",
    "\n",
    "    def area(self):\n",
    "        return 3.14 *  super().area()\n",
    "      \n",
    "rec = Shape(3, 5)\n",
    "print(rec.area())\n",
    "\n",
    "c = Circle(5)\n",
    "print(c.area())"
   ]
  },
  {
   "cell_type": "code",
   "execution_count": 25,
   "id": "62d61974",
   "metadata": {},
   "outputs": [
    {
     "name": "stdout",
     "output_type": "stream",
     "text": [
      " animal makes some sound: meow\n",
      "Dog :Woof\n"
     ]
    }
   ],
   "source": [
    "class Animal:\n",
    "    def __init__(self,sound):\n",
    "        self.sound = sound\n",
    "    \n",
    "    def voice(self):\n",
    "        return f\" animal makes some sound: {self.sound}\"\n",
    "    \n",
    "\n",
    "class Dog(Animal):\n",
    "    def __init__(self,x):\n",
    "        self.x = x\n",
    "        \n",
    "    def voice(self):\n",
    "        return f\"Dog :{self.x}\"\n",
    "\n",
    "ani = Animal('meow')\n",
    "print(ani.voice())\n",
    "\n",
    "dog = Dog('Woof')\n",
    "print(dog.voice())"
   ]
  },
  {
   "cell_type": "code",
   "execution_count": null,
   "id": "267b38d3",
   "metadata": {},
   "outputs": [],
   "source": []
  },
  {
   "cell_type": "code",
   "execution_count": 26,
   "id": "510b4ef6",
   "metadata": {},
   "outputs": [],
   "source": [
    "# OPERATOR OVERLOADING>>"
   ]
  },
  {
   "cell_type": "code",
   "execution_count": 27,
   "id": "50c594f3",
   "metadata": {},
   "outputs": [
    {
     "name": "stdout",
     "output_type": "stream",
     "text": [
      "2i + 3j + 4k\n",
      "1i + 2j + 3k\n",
      "3i 5j 7k\n"
     ]
    }
   ],
   "source": [
    "class Vector:\n",
    "    def __init__(self,i,j,k):\n",
    "        self.i = i\n",
    "        self.j = j\n",
    "        self.k = k\n",
    "    \n",
    "    def __str__(self):\n",
    "        return f\"{self.i}i + {self.j}j + {self.k}k\"\n",
    "    \n",
    "    def __add__(self,other):\n",
    "        return f\"{self.i + other.i}i {self.j + other.j}j {self.k + other.k}k\"\n",
    "    \n",
    "\n",
    "v1 = Vector(2,3,4)\n",
    "print(v1)\n",
    "\n",
    "v2 = Vector(1,2,3)\n",
    "print(v2)\n",
    "\n",
    "print(v1 + v2)"
   ]
  },
  {
   "cell_type": "code",
   "execution_count": null,
   "id": "24505ee9",
   "metadata": {},
   "outputs": [],
   "source": []
  },
  {
   "cell_type": "code",
   "execution_count": 9,
   "id": "eb084704",
   "metadata": {},
   "outputs": [],
   "source": [
    "#2nd Example."
   ]
  },
  {
   "cell_type": "code",
   "execution_count": 10,
   "id": "e5739cfe",
   "metadata": {},
   "outputs": [
    {
     "name": "stdout",
     "output_type": "stream",
     "text": [
      "123+456\n",
      "123+234\n",
      "-------\n",
      "246 690\n"
     ]
    }
   ],
   "source": [
    "class TwoStr:\n",
    "    \n",
    "    def __init__(self,str1,str2):\n",
    "        self.str1 = str1\n",
    "        self.str2 = str2\n",
    "\n",
    "    def __str__(self):\n",
    "        return f\"{self.str1}+{self.str2}\"\n",
    "        \n",
    "    def __add__(self,other):\n",
    "        return f\"{str(int(self.str1) + int(other.str1))} {str(int(self.str2) + int(other.str2))}\"\n",
    "        \n",
    "    \n",
    "add = TwoStr('123','456')\n",
    "print(add)\n",
    "\n",
    "add1 = TwoStr('123','234')\n",
    "print(add1)\n",
    "print('-------')\n",
    "print(add1 + add)"
   ]
  },
  {
   "cell_type": "code",
   "execution_count": null,
   "id": "7bfa1dcc",
   "metadata": {},
   "outputs": [],
   "source": []
  }
 ],
 "metadata": {
  "kernelspec": {
   "display_name": "Python 3 (ipykernel)",
   "language": "python",
   "name": "python3"
  },
  "language_info": {
   "codemirror_mode": {
    "name": "ipython",
    "version": 3
   },
   "file_extension": ".py",
   "mimetype": "text/x-python",
   "name": "python",
   "nbconvert_exporter": "python",
   "pygments_lexer": "ipython3",
   "version": "3.11.4"
  }
 },
 "nbformat": 4,
 "nbformat_minor": 5
}
