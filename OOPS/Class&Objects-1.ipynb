{
 "cells": [
  {
   "cell_type": "code",
   "execution_count": 8,
   "id": "27dc69b7",
   "metadata": {},
   "outputs": [
    {
     "name": "stdout",
     "output_type": "stream",
     "text": [
      "Husky\n",
      "Woof 10\n"
     ]
    }
   ],
   "source": [
    "class Dog():\n",
    "    def __init__(self,breed,name): # self is like a refernce or a link which connectd the object of class with __init__\n",
    "        self.breed = breed\n",
    "        self.name = name\n",
    "    def bark(self,num):   # if i add another paramter in function then it has to be called while calling this functoin only.\n",
    "        print('Woof',num)\n",
    "    \n",
    "my_dog = Dog('Husky','rugby')   \n",
    "# difference in when calling an attrubute and calling a function -->[()].\n",
    "print(my_dog.breed)\n",
    "my_dog.bark(10)\n"
   ]
  },
  {
   "cell_type": "code",
   "execution_count": null,
   "id": "72390623",
   "metadata": {},
   "outputs": [],
   "source": []
  },
  {
   "cell_type": "code",
   "execution_count": 22,
   "id": "6a393b54",
   "metadata": {},
   "outputs": [
    {
     "name": "stdout",
     "output_type": "stream",
     "text": [
      "3\n",
      "28.259999999999998\n",
      "18.84\n"
     ]
    }
   ],
   "source": [
    "class Circle():\n",
    "    # class paramter object --> not linked with __init__ call\n",
    "    # and to use it in class do it as: Circle.paramter\n",
    "    pi = 3.14\n",
    "    def __init__(self,radius=1):\n",
    "        self.radius = radius\n",
    "        self.area = Circle.pi*self.radius*self.radius # can call attribute by using the previous refernce of radius also.\n",
    "        \n",
    "    def circum(self):\n",
    "        result1 = 2 * Circle.pi * self.radius\n",
    "        print(result1)\n",
    "        \n",
    "my_circle = Circle(3)\n",
    "print(my_circle.radius)\n",
    "print(my_circle.area)\n",
    "\n",
    "my_circle.circum()\n"
   ]
  },
  {
   "cell_type": "code",
   "execution_count": 23,
   "id": "25ef6bc8",
   "metadata": {},
   "outputs": [
    {
     "data": {
      "text/plain": [
       "3"
      ]
     },
     "execution_count": 23,
     "metadata": {},
     "output_type": "execute_result"
    }
   ],
   "source": [
    "my_circle.radius"
   ]
  },
  {
   "cell_type": "code",
   "execution_count": null,
   "id": "746cf5e9",
   "metadata": {},
   "outputs": [],
   "source": []
  }
 ],
 "metadata": {
  "kernelspec": {
   "display_name": "Python 3 (ipykernel)",
   "language": "python",
   "name": "python3"
  },
  "language_info": {
   "codemirror_mode": {
    "name": "ipython",
    "version": 3
   },
   "file_extension": ".py",
   "mimetype": "text/x-python",
   "name": "python",
   "nbconvert_exporter": "python",
   "pygments_lexer": "ipython3",
   "version": "3.11.4"
  }
 },
 "nbformat": 4,
 "nbformat_minor": 5
}
