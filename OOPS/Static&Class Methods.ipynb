{
 "cells": [
  {
   "cell_type": "markdown",
   "id": "5bebffbc",
   "metadata": {},
   "source": [
    "# Static methods in Python are methods that belong to a class rather than an instance of the class. They are defined using the @staticmethod decorator and do not have access to the instance of the class (i.e. self)"
   ]
  },
  {
   "cell_type": "code",
   "execution_count": 7,
   "id": "dfb99fa4",
   "metadata": {},
   "outputs": [
    {
     "name": "stdout",
     "output_type": "stream",
     "text": [
      "5\n",
      "11\n",
      "10\n"
     ]
    }
   ],
   "source": [
    "class Sum():\n",
    "    def __init__(self,num):\n",
    "        self.num = num\n",
    "    \n",
    "    def addnum(self,n):\n",
    "        self.num = self.num + n\n",
    "    \n",
    "    @staticmethod\n",
    "    def add(a,b):\n",
    "        return a+b\n",
    "    \n",
    "\n",
    "sums = Sum(5)\n",
    "print(sums.num)\n",
    "\n",
    "sums.addnum(6)\n",
    "print(sums.num)\n",
    "\n",
    "# calling the decorator method only using class\n",
    "print(Sum.add(4,6))"
   ]
  },
  {
   "cell_type": "code",
   "execution_count": null,
   "id": "1e2a1622",
   "metadata": {},
   "outputs": [],
   "source": []
  },
  {
   "cell_type": "code",
   "execution_count": 8,
   "id": "b6a53559",
   "metadata": {},
   "outputs": [],
   "source": [
    "#Instance vs Class Variables"
   ]
  },
  {
   "cell_type": "code",
   "execution_count": 13,
   "id": "7295f5ae",
   "metadata": {},
   "outputs": [
    {
     "name": "stdout",
     "output_type": "stream",
     "text": [
      "The name of the Employee is Harry and the raise amount in 1 sized Apple India is 0.3\n",
      "Google\n",
      "The name of the Employee is Rohan and the raise amount in 2 sized Nestle is 0.02\n"
     ]
    }
   ],
   "source": [
    "class Employee:\n",
    "  companyName = \"Apple\"\n",
    "  noOfEmployees = 0\n",
    "  def __init__(self, name):\n",
    "    self.name = name\n",
    "    self.raise_amount = 0.02\n",
    "    Employee.noOfEmployees +=1\n",
    "  def showDetails(self):\n",
    "    print(f\"The name of the Employee is {self.name} and the raise amount in {Employee.noOfEmployees} sized {self.companyName} is {self.raise_amount}\")\n",
    "\n",
    "# Employee.showDetails(emp1)\n",
    "emp1 = Employee(\"Harry\")\n",
    "emp1.raise_amount = 0.3\n",
    "emp1.companyName = \"Apple India\" \n",
    "emp1.showDetails()\n",
    "Employee.companyName = \"Google\"\n",
    "print(Employee.companyName)\n",
    "\n",
    "emp2 = Employee(\"Rohan\")\n",
    "emp2.companyName = \"Nestle\"\n",
    "emp2.showDetails()\n"
   ]
  },
  {
   "cell_type": "code",
   "execution_count": null,
   "id": "139edb5f",
   "metadata": {},
   "outputs": [],
   "source": []
  },
  {
   "cell_type": "code",
   "execution_count": null,
   "id": "4578b38d",
   "metadata": {},
   "outputs": [],
   "source": []
  },
  {
   "cell_type": "markdown",
   "id": "8cf45835",
   "metadata": {},
   "source": [
    "# Using ClassMethod as Alternative constructors."
   ]
  },
  {
   "cell_type": "code",
   "execution_count": 36,
   "id": "1de489d6",
   "metadata": {},
   "outputs": [
    {
     "name": "stdout",
     "output_type": "stream",
     "text": [
      "Rithvik 24\n"
     ]
    }
   ],
   "source": [
    "class Person:\n",
    "    def __init__(self,name,age):\n",
    "        self.name = name\n",
    "        self.age = age\n",
    "    \n",
    "    @classmethod\n",
    "    def fromString(cls,string):\n",
    "        name,age = string.split(',')\n",
    "        return cls(name,int(age))\n",
    "    \n",
    "\n",
    "person = Person.fromString('Rithvik,24')\n",
    "print(person.name,person.age)"
   ]
  },
  {
   "cell_type": "code",
   "execution_count": 41,
   "id": "2db5fa5f",
   "metadata": {},
   "outputs": [
    {
     "name": "stdout",
     "output_type": "stream",
     "text": [
      "Rutvik 25\n",
      "Rithvik dixit 24\n"
     ]
    }
   ],
   "source": [
    "class Person:\n",
    "    def __init__(self,name,age):\n",
    "        self.name = name\n",
    "        self.age = age\n",
    "    \n",
    "    @classmethod\n",
    "    def takeString(cls,string):\n",
    "        #name,age = string.split('-')\n",
    "        #return cls(name,int(age))\n",
    "        #or\n",
    "        return cls(string.split('-')[0] , int(string.split('-')[1]))\n",
    "    \n",
    "\n",
    "    \n",
    "#\n",
    "\n",
    "e1 = Person('Rutvik',25)\n",
    "print(e1.name,e1.age)\n",
    "\n",
    "string = 'Rithvik dixit-24' \n",
    "\n",
    "person = Person.takeString(string)\n",
    "print(person.name,person.age)"
   ]
  },
  {
   "cell_type": "code",
   "execution_count": null,
   "id": "080f453a",
   "metadata": {},
   "outputs": [],
   "source": []
  },
  {
   "cell_type": "code",
   "execution_count": null,
   "id": "553ae6ac",
   "metadata": {},
   "outputs": [],
   "source": [
    "# the difference between class methods and static methods are that static methods do not have access to the instance of the class \n",
    "# but class methods have the access to both class and instance of class."
   ]
  },
  {
   "cell_type": "markdown",
   "id": "7e09f0aa",
   "metadata": {},
   "source": [
    "# class Methods"
   ]
  },
  {
   "cell_type": "code",
   "execution_count": 61,
   "id": "ff068a50",
   "metadata": {},
   "outputs": [
    {
     "name": "stdout",
     "output_type": "stream",
     "text": [
      "The name is: Harry and company is: Google\n",
      "The name is: Harry and company is: Tesla\n"
     ]
    },
    {
     "ename": "AttributeError",
     "evalue": "'NoneType' object has no attribute 'show'",
     "output_type": "error",
     "traceback": [
      "\u001b[1;31m---------------------------------------------------------------------------\u001b[0m",
      "\u001b[1;31mAttributeError\u001b[0m                            Traceback (most recent call last)",
      "Cell \u001b[1;32mIn[61], line 24\u001b[0m\n\u001b[0;32m     21\u001b[0m Employee\u001b[38;5;241m.\u001b[39mcompany\n\u001b[0;32m     23\u001b[0m e2 \u001b[38;5;241m=\u001b[39m Employee\u001b[38;5;241m.\u001b[39mchangecompany(\u001b[38;5;124m'\u001b[39m\u001b[38;5;124mApple\u001b[39m\u001b[38;5;124m'\u001b[39m)\n\u001b[1;32m---> 24\u001b[0m e2\u001b[38;5;241m.\u001b[39mshow(\u001b[38;5;124m'\u001b[39m\u001b[38;5;124mRithvik\u001b[39m\u001b[38;5;124m'\u001b[39m)\n",
      "\u001b[1;31mAttributeError\u001b[0m: 'NoneType' object has no attribute 'show'"
     ]
    }
   ],
   "source": [
    "class Employee:\n",
    "    company = 'Google'\n",
    "    \n",
    "    def show(self,name):\n",
    "        print(f'The name is: {name} and company is: {self.company}')\n",
    "        \n",
    "    @classmethod   \n",
    "#It is represting the class variables like what self does to the instance of class, so cls does the same but for class variables.\n",
    "    def changecompany(cls,newCompany):\n",
    "        cls.company = newCompany\n",
    "        \n",
    "\n",
    "e1 = Employee()\n",
    "#e1.name = 'Harry'\n",
    "e1.show('Harry')\n",
    "\n",
    "#e1.company = 'Apple'\n",
    "e1.changecompany('Tesla')   # when used this class method the next object of the class will be reflected with this change.\n",
    "e1.show('Harry')\n",
    "\n",
    "Employee.company\n",
    "\n",
    "e2 = Employee()\n",
    "e2.show('Rithvik')\n"
   ]
  },
  {
   "cell_type": "code",
   "execution_count": null,
   "id": "c69b5696",
   "metadata": {},
   "outputs": [],
   "source": []
  },
  {
   "cell_type": "code",
   "execution_count": null,
   "id": "a475aa3c",
   "metadata": {},
   "outputs": [],
   "source": []
  },
  {
   "cell_type": "code",
   "execution_count": 62,
   "id": "ba1e3dfb",
   "metadata": {},
   "outputs": [],
   "source": [
    "# Another Example:"
   ]
  },
  {
   "cell_type": "code",
   "execution_count": 84,
   "id": "88be098e",
   "metadata": {},
   "outputs": [
    {
     "name": "stdout",
     "output_type": "stream",
     "text": [
      "Rithvik 24\n",
      "Rdson 25\n",
      "-----below are example of using the date module---------\n",
      "2024-01-23\n",
      "2024\n",
      "1\n"
     ]
    }
   ],
   "source": [
    "from datetime import date\n",
    "\n",
    "class Person:\n",
    "    \n",
    "    def __init__(self,name,age):\n",
    "        self.name = name\n",
    "        self.age = age\n",
    "    \n",
    "    @classmethod\n",
    "    def yeartodate(cls,name,year):\n",
    "        return cls(name,date.today().year - year)\n",
    "    \n",
    "    \n",
    "\n",
    "p1 = Person('Rithvik',24)\n",
    "print(p1.name,p1.age)\n",
    "\n",
    "#year = 1999\n",
    "#age = date.today().year - year\n",
    "#print(age)\n",
    "#p2 = Person('Rdson',age)\n",
    "\n",
    "p2 = Person.yeartodate('Rdson',1999)\n",
    "print(p2.name,p2.age)\n",
    "\n",
    "print('-----below are example of using the date module---------')\n",
    "fun = date.today()\n",
    "fun2 = date.today().year\n",
    "fun3 = date.today().month\n",
    "print(fun)\n",
    "print(fun2)\n",
    "print(fun3)\n",
    "        "
   ]
  },
  {
   "cell_type": "code",
   "execution_count": null,
   "id": "88772d00",
   "metadata": {},
   "outputs": [],
   "source": []
  }
 ],
 "metadata": {
  "kernelspec": {
   "display_name": "Python 3 (ipykernel)",
   "language": "python",
   "name": "python3"
  },
  "language_info": {
   "codemirror_mode": {
    "name": "ipython",
    "version": 3
   },
   "file_extension": ".py",
   "mimetype": "text/x-python",
   "name": "python",
   "nbconvert_exporter": "python",
   "pygments_lexer": "ipython3",
   "version": "3.11.4"
  }
 },
 "nbformat": 4,
 "nbformat_minor": 5
}
