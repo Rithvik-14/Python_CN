{
 "cells": [
  {
   "cell_type": "code",
   "execution_count": 1,
   "id": "ffdce344",
   "metadata": {},
   "outputs": [],
   "source": [
    "# CLASSES --> It is a blueprint for creating objects."
   ]
  },
  {
   "cell_type": "code",
   "execution_count": 23,
   "id": "d0c6f8c9",
   "metadata": {},
   "outputs": [
    {
     "name": "stdout",
     "output_type": "stream",
     "text": [
      "2 2 speaking\n",
      "By speaking will tell their no. of hands: 2\n",
      "1 telling\n",
      "By telling will tell their no. of hands: 1\n",
      "\n",
      "\n",
      "By speaking will tell their no. of hands: 2\n"
     ]
    }
   ],
   "source": [
    "class Person:\n",
    "    hand = 2\n",
    "    leg = 2\n",
    "    mouth='speaking'\n",
    "    def name(self):\n",
    "        # self is a refernce to the instance of the class and is ised to access the variables that beong to class\n",
    "        print(f\"By {self.mouth} will tell their no. of hands: {self.hand}\")\n",
    "        \n",
    " \n",
    "\n",
    "a = Person()\n",
    "print(a.hand,a.leg,a.mouth)\n",
    "a.name()\n",
    "\n",
    "# changing the blueprint's object.\n",
    "b = Person()\n",
    "b.hand = 1\n",
    "b.mouth= 'telling'\n",
    "print(b.hand,b.mouth)\n",
    "b.name()\n",
    "print('\\n')\n",
    "\n",
    "c = Person()\n",
    "c.name()"
   ]
  },
  {
   "cell_type": "code",
   "execution_count": null,
   "id": "07a8597e",
   "metadata": {},
   "outputs": [],
   "source": []
  },
  {
   "cell_type": "code",
   "execution_count": null,
   "id": "36678f82",
   "metadata": {},
   "outputs": [],
   "source": []
  },
  {
   "cell_type": "code",
   "execution_count": 18,
   "id": "75ca5947",
   "metadata": {},
   "outputs": [],
   "source": [
    "# CONSTRUCTORS. A constructor is a special method in a class used to create and initialize an object of a class. \n",
    "#There are different types of constructors. Constructor is invoked automatically when an object of a class is created.\n",
    "# Default constructor and Parameterized constructor."
   ]
  },
  {
   "cell_type": "code",
   "execution_count": 39,
   "id": "02d1c858",
   "metadata": {},
   "outputs": [
    {
     "name": "stdout",
     "output_type": "stream",
     "text": [
      "Harry's occupation is Coder.\n",
      "Rekha's occupation is HR.\n"
     ]
    }
   ],
   "source": [
    "class Person:\n",
    "    name = 'Rithvik'\n",
    "    occ = 'Developer'\n",
    "    \n",
    "    \n",
    "    #def __init(self):\n",
    "     #   print('This is to show how delfault constructor works for Person C')\n",
    "    \n",
    "    def __init__(self,n,o):\n",
    "        self.name=n\n",
    "        self.occ = o\n",
    "    \n",
    "    def info(self):\n",
    "        print(f\"{self.name}'s occupation is {self.occ}.\" )\n",
    "        \n",
    "\n",
    "\n",
    "a = Person('Harry','Coder')\n",
    "#print(a.name)\n",
    "a.info()\n",
    "\n",
    "b = Person('Rekha','HR')\n",
    "#b.name = 'Rekha'\n",
    "#b.occ = 'HR'\n",
    "b.info()\n",
    "\n",
    "#c = Person()\n",
    "#c.info()"
   ]
  },
  {
   "cell_type": "code",
   "execution_count": null,
   "id": "42694ba5",
   "metadata": {},
   "outputs": [],
   "source": []
  },
  {
   "cell_type": "code",
   "execution_count": null,
   "id": "5693b423",
   "metadata": {},
   "outputs": [],
   "source": []
  },
  {
   "cell_type": "markdown",
   "id": "adc16439",
   "metadata": {},
   "source": [
    "# Decorators.\n",
    "A decorator is a function that takes another function as an argument and returns a new function that modifies the behavior of the original function. The new function is often referred to as a \"decorated\" function. "
   ]
  },
  {
   "cell_type": "code",
   "execution_count": 52,
   "id": "e4731ac6",
   "metadata": {},
   "outputs": [
    {
     "name": "stdout",
     "output_type": "stream",
     "text": [
      "Good Morning\n",
      "Hello World\n",
      "Thanks for using this decorators function\n",
      "Good Morning\n",
      "3\n",
      "Thanks for using this decorators function\n"
     ]
    }
   ],
   "source": [
    "def greet(fun):\n",
    "    def mfun(*args,**kwargs):\n",
    "        print('Good Morning')\n",
    "        fun(*args,**kwargs)\n",
    "        print('Thanks for using this decorators function')\n",
    "    return mfun\n",
    "\n",
    "\n",
    "@greet\n",
    "def hello():\n",
    "    print('Hello World')\n",
    "\n",
    "@greet    \n",
    "def add(a,b):\n",
    "    print(a+b)\n",
    "    \n",
    "hello()\n",
    "add(1,2)"
   ]
  },
  {
   "cell_type": "code",
   "execution_count": null,
   "id": "f3db331a",
   "metadata": {},
   "outputs": [],
   "source": []
  },
  {
   "cell_type": "code",
   "execution_count": null,
   "id": "2b8dce73",
   "metadata": {},
   "outputs": [],
   "source": []
  },
  {
   "cell_type": "markdown",
   "id": "ce8917de",
   "metadata": {},
   "source": [
    "# Getters&Setters."
   ]
  },
  {
   "cell_type": "code",
   "execution_count": 58,
   "id": "27903c16",
   "metadata": {},
   "outputs": [
    {
     "name": "stdout",
     "output_type": "stream",
     "text": [
      "Value is:10\n"
     ]
    }
   ],
   "source": [
    "class MyClass:\n",
    "    def __init__(self,value):\n",
    "        self._value = value\n",
    "    def show(self):\n",
    "        print(f\"Value is:{self._value}\")\n",
    "    @property\n",
    "    # getter\n",
    "    def value(self):\n",
    "        return self._value\n",
    "    \n",
    "    @value.setter\n",
    "    #setter\n",
    "    def value(self, new_value):\n",
    "        self._value = new_value\n",
    "    \n",
    "\n",
    "obj  = MyClass(20)\n",
    "obj.value = 10\n",
    "obj.show()"
   ]
  },
  {
   "cell_type": "code",
   "execution_count": null,
   "id": "35ff9cc5",
   "metadata": {},
   "outputs": [],
   "source": []
  }
 ],
 "metadata": {
  "kernelspec": {
   "display_name": "Python 3 (ipykernel)",
   "language": "python",
   "name": "python3"
  },
  "language_info": {
   "codemirror_mode": {
    "name": "ipython",
    "version": 3
   },
   "file_extension": ".py",
   "mimetype": "text/x-python",
   "name": "python",
   "nbconvert_exporter": "python",
   "pygments_lexer": "ipython3",
   "version": "3.11.4"
  }
 },
 "nbformat": 4,
 "nbformat_minor": 5
}
