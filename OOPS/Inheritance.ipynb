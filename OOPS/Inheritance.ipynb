{
 "cells": [
  {
   "cell_type": "markdown",
   "id": "010b1cd6",
   "metadata": {},
   "source": [
    "# Single inheritance is a type of inheritance where a class inherits properties and behaviors from a single parent class. \n",
    "#This is the simplest and most common form of inheritance."
   ]
  },
  {
   "cell_type": "code",
   "execution_count": 9,
   "id": "e590f1ec",
   "metadata": {},
   "outputs": [
    {
     "name": "stdout",
     "output_type": "stream",
     "text": [
      "Husk of breed Husky eats animal food!\n",
      "kitten of breed malecat eats tuna fish!\n"
     ]
    }
   ],
   "source": [
    "class Animal:\n",
    "    def __init__(self,name,breed):\n",
    "        self.name=name\n",
    "        self.breed = breed\n",
    "    \n",
    "    def food(self):\n",
    "        print(f\"{self.name} of breed {self.breed} eats animal food!\")\n",
    "              \n",
    "\n",
    "class Cat(Animal):\n",
    "    def __init__(self,name,breed):\n",
    "        super().__init__(name,breed)\n",
    "    \n",
    "    def food(self):\n",
    "        print(f\"{self.name} of breed {self.breed} eats tuna fish!\")\n",
    "        \n",
    "dog = Animal('Husk','Husky')\n",
    "dog.food()\n",
    "\n",
    "cat = Cat('kitten','malecat')\n",
    "cat.food()\n",
    "              \n",
    "    "
   ]
  },
  {
   "cell_type": "code",
   "execution_count": null,
   "id": "84f127ce",
   "metadata": {},
   "outputs": [],
   "source": []
  },
  {
   "cell_type": "markdown",
   "id": "f266e9c8",
   "metadata": {},
   "source": [
    "# Multiple Inheritance. \n",
    "Multiple inheritance is a powerful feature in object-oriented programming that allows a class to inherit attributes and methods from multiple parent classes."
   ]
  },
  {
   "cell_type": "code",
   "execution_count": 9,
   "id": "76aeeb82",
   "metadata": {},
   "outputs": [
    {
     "name": "stdout",
     "output_type": "stream",
     "text": [
      "Rick\n",
      "Jaxx\n",
      "Print the dance form: Jaxx\n"
     ]
    },
    {
     "ename": "AttributeError",
     "evalue": "'super' object has no attribute 'show'",
     "output_type": "error",
     "traceback": [
      "\u001b[1;31m---------------------------------------------------------------------------\u001b[0m",
      "\u001b[1;31mAttributeError\u001b[0m                            Traceback (most recent call last)",
      "Cell \u001b[1;32mIn[9], line 26\u001b[0m\n\u001b[0;32m     24\u001b[0m \u001b[38;5;28mprint\u001b[39m(o\u001b[38;5;241m.\u001b[39mname)\n\u001b[0;32m     25\u001b[0m \u001b[38;5;28mprint\u001b[39m(o\u001b[38;5;241m.\u001b[39mdance)\n\u001b[1;32m---> 26\u001b[0m o\u001b[38;5;241m.\u001b[39mshow()\n",
      "Cell \u001b[1;32mIn[9], line 21\u001b[0m, in \u001b[0;36mEmpDancer.show\u001b[1;34m(self)\u001b[0m\n\u001b[0;32m     19\u001b[0m \u001b[38;5;28;01mdef\u001b[39;00m \u001b[38;5;21mshow\u001b[39m(\u001b[38;5;28mself\u001b[39m):\n\u001b[0;32m     20\u001b[0m     \u001b[38;5;28msuper\u001b[39m(Employee,\u001b[38;5;28mself\u001b[39m)\u001b[38;5;241m.\u001b[39mshow()\n\u001b[1;32m---> 21\u001b[0m     \u001b[38;5;28msuper\u001b[39m(Dancer,\u001b[38;5;28mself\u001b[39m)\u001b[38;5;241m.\u001b[39mshow()\n",
      "\u001b[1;31mAttributeError\u001b[0m: 'super' object has no attribute 'show'"
     ]
    }
   ],
   "source": [
    "class Employee:\n",
    "    def __init__(self,name):\n",
    "        self.name = name\n",
    "      \n",
    "    def show(self):\n",
    "        print(f'Print the name: {self.name}')\n",
    "        \n",
    "\n",
    "class Dancer:\n",
    "    def __init__(self,dance):\n",
    "        self.dance = dance\n",
    "    def show(self):\n",
    "        print(f'Print the dance form: {self.dance}')\n",
    "        \n",
    "class EmpDancer(Employee,Dancer):\n",
    "    def __init__(self,dance,name):\n",
    "        self.name = name\n",
    "        self.dance = dance\n",
    "    def show(self):\n",
    "        super(Employee,self).show()\n",
    "        super(Dancer,self).show()\n",
    "    \n",
    "o = EmpDancer('Jaxx','Rick')\n",
    "print(o.name)\n",
    "print(o.dance)\n",
    "o.show()"
   ]
  },
  {
   "cell_type": "code",
   "execution_count": null,
   "id": "e35a5834",
   "metadata": {},
   "outputs": [],
   "source": []
  },
  {
   "cell_type": "code",
   "execution_count": 12,
   "id": "ed336014",
   "metadata": {},
   "outputs": [
    {
     "name": "stdout",
     "output_type": "stream",
     "text": [
      "Bark!\n",
      "blue\n"
     ]
    }
   ],
   "source": [
    "class Animal:\n",
    "    def __init__(self, name, species):\n",
    "        self.name = name\n",
    "        self.species = species\n",
    "        \n",
    "    def make_sound(self):\n",
    "        print(\"Sound made by the animal\")\n",
    "        \n",
    "class Mammal:\n",
    "    def __init__(self, name, fur_color):\n",
    "        self.name = name\n",
    "        self.fur_color = fur_color\n",
    "        \n",
    "class Dog(Animal, Mammal):\n",
    "    def __init__(self, name, breed, fur_color):\n",
    "        Animal.__init__(self, name, species=\"Dog\")\n",
    "        Mammal.__init__(self, name, fur_color)\n",
    "        self.breed = breed\n",
    "        \n",
    "    def make_sound(self):\n",
    "        print(\"Bark!\")\n",
    "    \n",
    "ani = Animal('duck','cat')\n",
    "        \n",
    "dog = Dog('fluck','husky','blue')\n",
    "dog.make_sound()\n",
    "print(dog.fur_color)"
   ]
  },
  {
   "cell_type": "code",
   "execution_count": null,
   "id": "90b0177b",
   "metadata": {},
   "outputs": [],
   "source": []
  },
  {
   "cell_type": "markdown",
   "id": "d2944a9a",
   "metadata": {},
   "source": [
    "# Multilevel inheritance\n",
    "Multilevel inheritance is a type of inheritance in object-oriented programming where a derived class inherits from another derived class. This type of inheritance allows you to build a hierarchy of classes where one class builds upon another, leading to a more specialized class."
   ]
  },
  {
   "cell_type": "code",
   "execution_count": 34,
   "id": "ceae7506",
   "metadata": {},
   "outputs": [
    {
     "name": "stdout",
     "output_type": "stream",
     "text": [
      "name : jojo\n",
      "species: Dog\n",
      "breed: Lepoard\n",
      "name : lolo\n",
      "species: Dog\n",
      "breed: GermanShepherd\n",
      "Color: brown\n"
     ]
    }
   ],
   "source": [
    "class Animal:\n",
    "    def __init__(self,name,species):\n",
    "        self.name = name\n",
    "        self.species = species\n",
    "        \n",
    "    def show_details(self):\n",
    "        print(f'name : {self.name}')\n",
    "        print(f'species: {self.species}')\n",
    "    \n",
    "    \n",
    "class Dog(Animal):\n",
    "    def __init__(self,name,breed):\n",
    "        Animal.__init__(self,name,species='Dog')\n",
    "        self.breed=breed\n",
    "    \n",
    "    def show_details(self):\n",
    "        Animal.show_details(self)\n",
    "        print(f'breed: {self.breed}')\n",
    "    \n",
    "class GermanShepherd(Dog):\n",
    "    def __init__(self,name,color):\n",
    "        Dog.__init__(self,name,breed='GermanShepherd')\n",
    "        self.color = color\n",
    "    \n",
    "    def show_details(self):\n",
    "        Dog.show_details(self)\n",
    "        print(f'Color: {self.color}')\n",
    "        \n",
    "dog = Dog('jojo','Lepoard')\n",
    "dog.show_details()\n",
    "    \n",
    "Gs = GermanShepherd('lolo','brown')\n",
    "Gs.show_details()"
   ]
  },
  {
   "cell_type": "code",
   "execution_count": null,
   "id": "6afb002d",
   "metadata": {},
   "outputs": [],
   "source": []
  },
  {
   "cell_type": "code",
   "execution_count": null,
   "id": "ecc8f29c",
   "metadata": {},
   "outputs": [],
   "source": []
  },
  {
   "cell_type": "markdown",
   "id": "1cd1bc8d",
   "metadata": {},
   "source": [
    "# Hybrid inheritance is a combination of multiple inheritance and single inheritance in object-oriented programming. \n",
    "It is a type of inheritance in which multiple inheritance is used to inherit the properties of multiple base classes into a single derived class, and single inheritance is used to inherit the properties of the derived class into a sub-derived class."
   ]
  },
  {
   "cell_type": "code",
   "execution_count": 35,
   "id": "50fa300c",
   "metadata": {},
   "outputs": [],
   "source": [
    "class Human:\n",
    "  def __init__(self, name, age):\n",
    "    self.name = name\n",
    "    self.age = age\n",
    "    \n",
    "  def show_details(self):\n",
    "    print(\"Name:\", self.name)\n",
    "    print(\"Age:\", self.age)\n",
    "    \n",
    "class Person(Human):\n",
    "  def __init__(self, name, age, address):\n",
    "    Human.__init__(self, name, age)\n",
    "    self.address = address\n",
    "    \n",
    "  def show_details(self):\n",
    "    Human.show_details(self)\n",
    "    print(\"Address:\", self.address)\n",
    "    \n",
    "class Program:\n",
    "  def __init__(self, program_name, duration):\n",
    "    self.program_name = program_name\n",
    "    self.duration = duration\n",
    "    \n",
    "  def show_details(self):\n",
    "    print(\"Program Name:\", self.program_name)\n",
    "    print(\"Duration:\", self.duration)\n",
    "    \n",
    "class Student(Person):\n",
    "  def __init__(self, name, age, address, program):\n",
    "    Person.__init__(self, name, age, address)\n",
    "    self.program = program\n",
    "    \n",
    "  def show_details(self):\n",
    "    Person.show_details(self)\n",
    "    self.program.show_details()"
   ]
  },
  {
   "cell_type": "code",
   "execution_count": 37,
   "id": "ee688bf5",
   "metadata": {},
   "outputs": [
    {
     "name": "stdout",
     "output_type": "stream",
     "text": [
      "Name: John Doe\n",
      "Age: 25\n",
      "Address: 123 Main St.\n",
      "Program Name: Computer Science\n",
      "Duration: 4\n"
     ]
    }
   ],
   "source": [
    "program = Program(\"Computer Science\", 4)\n",
    "student = Student(\"John Doe\", 25, \"123 Main St.\", program)\n",
    "student.show_details()"
   ]
  },
  {
   "cell_type": "code",
   "execution_count": null,
   "id": "cff9bb5a",
   "metadata": {},
   "outputs": [],
   "source": []
  },
  {
   "cell_type": "markdown",
   "id": "365bc00f",
   "metadata": {},
   "source": [
    "# Hierarchical Inheritance is a type of inheritance in Object-Oriented Programming where multiple subclasses inherit from a single base class.\n",
    "In other words, a single base class acts as a parent class for multiple subclasses. This is a way of establishing relationships between classes in a hierarchical manner."
   ]
  },
  {
   "cell_type": "code",
   "execution_count": 17,
   "id": "9bd2ef23",
   "metadata": {},
   "outputs": [],
   "source": [
    "class Animal:\n",
    "    def __init__(self, name):\n",
    "        self.name = name\n",
    "\n",
    "    def show_details(self):\n",
    "        print(\"Name:\", self.name)\n",
    "\n",
    "class Dog(Animal):\n",
    "    def __init__(self, name, breed):\n",
    "        Animal.__init__(self, name)\n",
    "        self.breed = breed\n",
    "\n",
    "    def show_details(self):\n",
    "        Animal.show_details(self)\n",
    "        print(\"Species: Dog\")\n",
    "        print(\"Breed:\", self.breed)\n",
    "\n",
    "class Cat(Animal):\n",
    "    def __init__(self, name, color):\n",
    "        Animal.__init__(self, name)\n",
    "        self.color = color\n",
    "\n",
    "    def show_details(self):\n",
    "        Animal.show_details(self)\n",
    "        print(\"Species: Cat\")\n",
    "        print(\"Color:\", self.color)"
   ]
  },
  {
   "cell_type": "code",
   "execution_count": 18,
   "id": "465412f0",
   "metadata": {},
   "outputs": [
    {
     "name": "stdout",
     "output_type": "stream",
     "text": [
      "Name: Max\n",
      "Species: Dog\n",
      "Breed: Golden Retriever\n"
     ]
    },
    {
     "ename": "TypeError",
     "evalue": "Cat.__init__() takes 3 positional arguments but 4 were given",
     "output_type": "error",
     "traceback": [
      "\u001b[1;31m---------------------------------------------------------------------------\u001b[0m",
      "\u001b[1;31mTypeError\u001b[0m                                 Traceback (most recent call last)",
      "Cell \u001b[1;32mIn[18], line 3\u001b[0m\n\u001b[0;32m      1\u001b[0m dog \u001b[38;5;241m=\u001b[39m Dog(\u001b[38;5;124m\"\u001b[39m\u001b[38;5;124mMax\u001b[39m\u001b[38;5;124m\"\u001b[39m, \u001b[38;5;124m\"\u001b[39m\u001b[38;5;124mGolden Retriever\u001b[39m\u001b[38;5;124m\"\u001b[39m)\n\u001b[0;32m      2\u001b[0m dog\u001b[38;5;241m.\u001b[39mshow_details()\n\u001b[1;32m----> 3\u001b[0m cat \u001b[38;5;241m=\u001b[39m Cat(\u001b[38;5;124m\"\u001b[39m\u001b[38;5;124mLuna\u001b[39m\u001b[38;5;124m\"\u001b[39m,\u001b[38;5;124m'\u001b[39m\u001b[38;5;124mmaleCat\u001b[39m\u001b[38;5;124m'\u001b[39m, \u001b[38;5;124m\"\u001b[39m\u001b[38;5;124mBlack\u001b[39m\u001b[38;5;124m\"\u001b[39m)\n\u001b[0;32m      4\u001b[0m cat\u001b[38;5;241m.\u001b[39mshow_details()\n",
      "\u001b[1;31mTypeError\u001b[0m: Cat.__init__() takes 3 positional arguments but 4 were given"
     ]
    }
   ],
   "source": [
    "dog = Dog(\"Max\", \"Golden Retriever\")\n",
    "dog.show_details()\n",
    "cat = Cat(\"Luna\",'maleCat', \"Black\")\n",
    "cat.show_details()"
   ]
  },
  {
   "cell_type": "code",
   "execution_count": null,
   "id": "ccd0aba9",
   "metadata": {},
   "outputs": [],
   "source": []
  }
 ],
 "metadata": {
  "kernelspec": {
   "display_name": "Python 3 (ipykernel)",
   "language": "python",
   "name": "python3"
  },
  "language_info": {
   "codemirror_mode": {
    "name": "ipython",
    "version": 3
   },
   "file_extension": ".py",
   "mimetype": "text/x-python",
   "name": "python",
   "nbconvert_exporter": "python",
   "pygments_lexer": "ipython3",
   "version": "3.11.4"
  }
 },
 "nbformat": 4,
 "nbformat_minor": 5
}
